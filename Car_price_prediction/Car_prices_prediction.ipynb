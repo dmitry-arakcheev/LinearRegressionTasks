{
 "cells": [
  {
   "cell_type": "markdown",
   "id": "3a3890e4",
   "metadata": {},
   "source": [
    "# Предсказание цен автомобилей с использованием линейной регрессии на NumPy\n",
    "\n",
    "Дисклеймер: Искушенному читателю данный проект местами может показаться сумбурным и перегруженным лишними действиями. Но я решил оставить его в таком \"нерафинированном\" виде, как бы отражающим рабочий процесс."
   ]
  },
  {
   "cell_type": "markdown",
   "id": "dcbbbd70",
   "metadata": {},
   "source": [
    "## 1. Считывание и подготовка данных"
   ]
  },
  {
   "cell_type": "code",
   "execution_count": 1,
   "id": "0f0fc71e",
   "metadata": {},
   "outputs": [],
   "source": [
    "# импорт необходимых библиотек\n",
    "\n",
    "import numpy as np\n",
    "import pandas as pd\n",
    "\n",
    "import matplotlib.pyplot as plt\n",
    "import seaborn as sns"
   ]
  },
  {
   "cell_type": "code",
   "execution_count": 2,
   "id": "3f7906f5",
   "metadata": {},
   "outputs": [
    {
     "data": {
      "text/html": [
       "<div>\n",
       "<style scoped>\n",
       "    .dataframe tbody tr th:only-of-type {\n",
       "        vertical-align: middle;\n",
       "    }\n",
       "\n",
       "    .dataframe tbody tr th {\n",
       "        vertical-align: top;\n",
       "    }\n",
       "\n",
       "    .dataframe thead th {\n",
       "        text-align: right;\n",
       "    }\n",
       "</style>\n",
       "<table border=\"1\" class=\"dataframe\">\n",
       "  <thead>\n",
       "    <tr style=\"text-align: right;\">\n",
       "      <th></th>\n",
       "      <th>Make</th>\n",
       "      <th>Model</th>\n",
       "      <th>Year</th>\n",
       "      <th>Engine Fuel Type</th>\n",
       "      <th>Engine HP</th>\n",
       "      <th>Engine Cylinders</th>\n",
       "      <th>Transmission Type</th>\n",
       "      <th>Driven_Wheels</th>\n",
       "      <th>Number of Doors</th>\n",
       "      <th>Market Category</th>\n",
       "      <th>Vehicle Size</th>\n",
       "      <th>Vehicle Style</th>\n",
       "      <th>highway MPG</th>\n",
       "      <th>city mpg</th>\n",
       "      <th>Popularity</th>\n",
       "      <th>MSRP</th>\n",
       "    </tr>\n",
       "  </thead>\n",
       "  <tbody>\n",
       "    <tr>\n",
       "      <th>0</th>\n",
       "      <td>BMW</td>\n",
       "      <td>1 Series M</td>\n",
       "      <td>2011</td>\n",
       "      <td>premium unleaded (required)</td>\n",
       "      <td>335.0</td>\n",
       "      <td>6.0</td>\n",
       "      <td>MANUAL</td>\n",
       "      <td>rear wheel drive</td>\n",
       "      <td>2.0</td>\n",
       "      <td>Factory Tuner,Luxury,High-Performance</td>\n",
       "      <td>Compact</td>\n",
       "      <td>Coupe</td>\n",
       "      <td>26</td>\n",
       "      <td>19</td>\n",
       "      <td>3916</td>\n",
       "      <td>46135</td>\n",
       "    </tr>\n",
       "    <tr>\n",
       "      <th>1</th>\n",
       "      <td>BMW</td>\n",
       "      <td>1 Series</td>\n",
       "      <td>2011</td>\n",
       "      <td>premium unleaded (required)</td>\n",
       "      <td>300.0</td>\n",
       "      <td>6.0</td>\n",
       "      <td>MANUAL</td>\n",
       "      <td>rear wheel drive</td>\n",
       "      <td>2.0</td>\n",
       "      <td>Luxury,Performance</td>\n",
       "      <td>Compact</td>\n",
       "      <td>Convertible</td>\n",
       "      <td>28</td>\n",
       "      <td>19</td>\n",
       "      <td>3916</td>\n",
       "      <td>40650</td>\n",
       "    </tr>\n",
       "    <tr>\n",
       "      <th>2</th>\n",
       "      <td>BMW</td>\n",
       "      <td>1 Series</td>\n",
       "      <td>2011</td>\n",
       "      <td>premium unleaded (required)</td>\n",
       "      <td>300.0</td>\n",
       "      <td>6.0</td>\n",
       "      <td>MANUAL</td>\n",
       "      <td>rear wheel drive</td>\n",
       "      <td>2.0</td>\n",
       "      <td>Luxury,High-Performance</td>\n",
       "      <td>Compact</td>\n",
       "      <td>Coupe</td>\n",
       "      <td>28</td>\n",
       "      <td>20</td>\n",
       "      <td>3916</td>\n",
       "      <td>36350</td>\n",
       "    </tr>\n",
       "    <tr>\n",
       "      <th>3</th>\n",
       "      <td>BMW</td>\n",
       "      <td>1 Series</td>\n",
       "      <td>2011</td>\n",
       "      <td>premium unleaded (required)</td>\n",
       "      <td>230.0</td>\n",
       "      <td>6.0</td>\n",
       "      <td>MANUAL</td>\n",
       "      <td>rear wheel drive</td>\n",
       "      <td>2.0</td>\n",
       "      <td>Luxury,Performance</td>\n",
       "      <td>Compact</td>\n",
       "      <td>Coupe</td>\n",
       "      <td>28</td>\n",
       "      <td>18</td>\n",
       "      <td>3916</td>\n",
       "      <td>29450</td>\n",
       "    </tr>\n",
       "    <tr>\n",
       "      <th>4</th>\n",
       "      <td>BMW</td>\n",
       "      <td>1 Series</td>\n",
       "      <td>2011</td>\n",
       "      <td>premium unleaded (required)</td>\n",
       "      <td>230.0</td>\n",
       "      <td>6.0</td>\n",
       "      <td>MANUAL</td>\n",
       "      <td>rear wheel drive</td>\n",
       "      <td>2.0</td>\n",
       "      <td>Luxury</td>\n",
       "      <td>Compact</td>\n",
       "      <td>Convertible</td>\n",
       "      <td>28</td>\n",
       "      <td>18</td>\n",
       "      <td>3916</td>\n",
       "      <td>34500</td>\n",
       "    </tr>\n",
       "  </tbody>\n",
       "</table>\n",
       "</div>"
      ],
      "text/plain": [
       "  Make       Model  Year             Engine Fuel Type  Engine HP  \\\n",
       "0  BMW  1 Series M  2011  premium unleaded (required)      335.0   \n",
       "1  BMW    1 Series  2011  premium unleaded (required)      300.0   \n",
       "2  BMW    1 Series  2011  premium unleaded (required)      300.0   \n",
       "3  BMW    1 Series  2011  premium unleaded (required)      230.0   \n",
       "4  BMW    1 Series  2011  premium unleaded (required)      230.0   \n",
       "\n",
       "   Engine Cylinders Transmission Type     Driven_Wheels  Number of Doors  \\\n",
       "0               6.0            MANUAL  rear wheel drive              2.0   \n",
       "1               6.0            MANUAL  rear wheel drive              2.0   \n",
       "2               6.0            MANUAL  rear wheel drive              2.0   \n",
       "3               6.0            MANUAL  rear wheel drive              2.0   \n",
       "4               6.0            MANUAL  rear wheel drive              2.0   \n",
       "\n",
       "                         Market Category Vehicle Size Vehicle Style  \\\n",
       "0  Factory Tuner,Luxury,High-Performance      Compact         Coupe   \n",
       "1                     Luxury,Performance      Compact   Convertible   \n",
       "2                Luxury,High-Performance      Compact         Coupe   \n",
       "3                     Luxury,Performance      Compact         Coupe   \n",
       "4                                 Luxury      Compact   Convertible   \n",
       "\n",
       "   highway MPG  city mpg  Popularity   MSRP  \n",
       "0           26        19        3916  46135  \n",
       "1           28        19        3916  40650  \n",
       "2           28        20        3916  36350  \n",
       "3           28        18        3916  29450  \n",
       "4           28        18        3916  34500  "
      ]
     },
     "execution_count": 2,
     "metadata": {},
     "output_type": "execute_result"
    }
   ],
   "source": [
    "# открываем файл, смотрим содержимое\n",
    "\n",
    "df = pd.read_csv('data.csv')\n",
    "df.head()"
   ]
  },
  {
   "cell_type": "code",
   "execution_count": 3,
   "id": "9df17b82",
   "metadata": {},
   "outputs": [
    {
     "data": {
      "text/plain": [
       "(11914, 16)"
      ]
     },
     "execution_count": 3,
     "metadata": {},
     "output_type": "execute_result"
    }
   ],
   "source": [
    "# размер датафрейма\n",
    "\n",
    "df.shape"
   ]
  },
  {
   "cell_type": "markdown",
   "id": "b009e483",
   "metadata": {},
   "source": [
    "16 колонок и почти 12000 строк"
   ]
  },
  {
   "cell_type": "code",
   "execution_count": 4,
   "id": "c31da9c9",
   "metadata": {},
   "outputs": [
    {
     "name": "stdout",
     "output_type": "stream",
     "text": [
      "<class 'pandas.core.frame.DataFrame'>\n",
      "RangeIndex: 11914 entries, 0 to 11913\n",
      "Data columns (total 16 columns):\n",
      " #   Column             Non-Null Count  Dtype  \n",
      "---  ------             --------------  -----  \n",
      " 0   Make               11914 non-null  object \n",
      " 1   Model              11914 non-null  object \n",
      " 2   Year               11914 non-null  int64  \n",
      " 3   Engine Fuel Type   11911 non-null  object \n",
      " 4   Engine HP          11845 non-null  float64\n",
      " 5   Engine Cylinders   11884 non-null  float64\n",
      " 6   Transmission Type  11914 non-null  object \n",
      " 7   Driven_Wheels      11914 non-null  object \n",
      " 8   Number of Doors    11908 non-null  float64\n",
      " 9   Market Category    8172 non-null   object \n",
      " 10  Vehicle Size       11914 non-null  object \n",
      " 11  Vehicle Style      11914 non-null  object \n",
      " 12  highway MPG        11914 non-null  int64  \n",
      " 13  city mpg           11914 non-null  int64  \n",
      " 14  Popularity         11914 non-null  int64  \n",
      " 15  MSRP               11914 non-null  int64  \n",
      "dtypes: float64(3), int64(5), object(8)\n",
      "memory usage: 1.5+ MB\n"
     ]
    }
   ],
   "source": [
    "# общая информация\n",
    "\n",
    "df.info()"
   ]
  },
  {
   "cell_type": "markdown",
   "id": "9a7bb536",
   "metadata": {},
   "source": [
    "Можно сразу заметить, что в некоторых колонках отсутствуют значения. К этому факту мы еще вернемся."
   ]
  },
  {
   "cell_type": "code",
   "execution_count": 5,
   "id": "d2b1e012",
   "metadata": {},
   "outputs": [
    {
     "data": {
      "text/plain": [
       "Index(['Make', 'Model', 'Year', 'Engine Fuel Type', 'Engine HP',\n",
       "       'Engine Cylinders', 'Transmission Type', 'Driven_Wheels',\n",
       "       'Number of Doors', 'Market Category', 'Vehicle Size', 'Vehicle Style',\n",
       "       'highway MPG', 'city mpg', 'Popularity', 'MSRP'],\n",
       "      dtype='object')"
      ]
     },
     "execution_count": 5,
     "metadata": {},
     "output_type": "execute_result"
    }
   ],
   "source": [
    "# названия колонок\n",
    "\n",
    "df.columns"
   ]
  },
  {
   "cell_type": "markdown",
   "id": "8ad2c9ee",
   "metadata": {},
   "source": [
    "|   |   |\n",
    "|:---|:---|\n",
    "| Make | Производитель |\n",
    "| Model | Модель |\n",
    "| Year | Год выпуска |\n",
    "| Engine Fuel Type | Тип топлива |\n",
    "| Engine HP | Мощность двигателя (л.с.) |\n",
    "| Engine Cylinders | Число цилиндров двигателя  |\n",
    "| Transmission Type | Тип трансмиссии (КПП) |\n",
    "| Driven_Wheels | Ведущие колеса |\n",
    "| Number of Doors | Количество дверей |\n",
    "| Market Category | Рыночная категория |\n",
    "| Vehicle Size | Тип размера автомобиля |\n",
    "| Vehicle Style | Тип кузова |\n",
    "| highway MPG | Расход топлива по трассе (миль на галлон) |\n",
    "| city mpg | Расход топлива по городу (миль на галлон) |\n",
    "| Popularity | Рейтинг популярности (Twitter) |\n",
    "| MSRP | Рекомендованная цена продажи |"
   ]
  },
  {
   "cell_type": "code",
   "execution_count": 6,
   "id": "b8a18833",
   "metadata": {},
   "outputs": [
    {
     "data": {
      "text/plain": [
       "Index(['make', 'model', 'year', 'engine_fuel_type', 'engine_hp',\n",
       "       'engine_cylinders', 'transmission_type', 'driven_wheels',\n",
       "       'number_of_doors', 'market_category', 'vehicle_size', 'vehicle_style',\n",
       "       'highway_mpg', 'city_mpg', 'popularity', 'msrp'],\n",
       "      dtype='object')"
      ]
     },
     "execution_count": 6,
     "metadata": {},
     "output_type": "execute_result"
    }
   ],
   "source": [
    "# приводим названия колонок к единообразию: все буквы строчные, слова соединены символом \"_\"\n",
    "\n",
    "df.columns = df.columns.str.lower().str.replace(' ', '_')\n",
    "df.columns"
   ]
  },
  {
   "cell_type": "code",
   "execution_count": 7,
   "id": "edbcf574",
   "metadata": {},
   "outputs": [
    {
     "data": {
      "text/plain": [
       "['make',\n",
       " 'model',\n",
       " 'engine_fuel_type',\n",
       " 'transmission_type',\n",
       " 'driven_wheels',\n",
       " 'market_category',\n",
       " 'vehicle_size',\n",
       " 'vehicle_style']"
      ]
     },
     "execution_count": 7,
     "metadata": {},
     "output_type": "execute_result"
    }
   ],
   "source": [
    "# аналогично приводим к единообразию строковые значения в колонках\n",
    "# сперва выделим колонки с строковыми значениями\n",
    "\n",
    "string_columns = list(df.dtypes[df.dtypes == 'object'].index)\n",
    "string_columns"
   ]
  },
  {
   "cell_type": "code",
   "execution_count": 8,
   "id": "576f3e7b",
   "metadata": {},
   "outputs": [],
   "source": [
    "# теперь проводим преобразование значений в этих колонках\n",
    "\n",
    "for col in string_columns:\n",
    "    df[col] = df[col].str.lower().str.replace(' ', '_')"
   ]
  },
  {
   "cell_type": "code",
   "execution_count": 9,
   "id": "f376de57",
   "metadata": {},
   "outputs": [
    {
     "data": {
      "text/html": [
       "<div>\n",
       "<style scoped>\n",
       "    .dataframe tbody tr th:only-of-type {\n",
       "        vertical-align: middle;\n",
       "    }\n",
       "\n",
       "    .dataframe tbody tr th {\n",
       "        vertical-align: top;\n",
       "    }\n",
       "\n",
       "    .dataframe thead th {\n",
       "        text-align: right;\n",
       "    }\n",
       "</style>\n",
       "<table border=\"1\" class=\"dataframe\">\n",
       "  <thead>\n",
       "    <tr style=\"text-align: right;\">\n",
       "      <th></th>\n",
       "      <th>make</th>\n",
       "      <th>model</th>\n",
       "      <th>year</th>\n",
       "      <th>engine_fuel_type</th>\n",
       "      <th>engine_hp</th>\n",
       "      <th>engine_cylinders</th>\n",
       "      <th>transmission_type</th>\n",
       "      <th>driven_wheels</th>\n",
       "      <th>number_of_doors</th>\n",
       "      <th>market_category</th>\n",
       "      <th>vehicle_size</th>\n",
       "      <th>vehicle_style</th>\n",
       "      <th>highway_mpg</th>\n",
       "      <th>city_mpg</th>\n",
       "      <th>popularity</th>\n",
       "      <th>msrp</th>\n",
       "    </tr>\n",
       "  </thead>\n",
       "  <tbody>\n",
       "    <tr>\n",
       "      <th>0</th>\n",
       "      <td>bmw</td>\n",
       "      <td>1_series_m</td>\n",
       "      <td>2011</td>\n",
       "      <td>premium_unleaded_(required)</td>\n",
       "      <td>335.0</td>\n",
       "      <td>6.0</td>\n",
       "      <td>manual</td>\n",
       "      <td>rear_wheel_drive</td>\n",
       "      <td>2.0</td>\n",
       "      <td>factory_tuner,luxury,high-performance</td>\n",
       "      <td>compact</td>\n",
       "      <td>coupe</td>\n",
       "      <td>26</td>\n",
       "      <td>19</td>\n",
       "      <td>3916</td>\n",
       "      <td>46135</td>\n",
       "    </tr>\n",
       "    <tr>\n",
       "      <th>1</th>\n",
       "      <td>bmw</td>\n",
       "      <td>1_series</td>\n",
       "      <td>2011</td>\n",
       "      <td>premium_unleaded_(required)</td>\n",
       "      <td>300.0</td>\n",
       "      <td>6.0</td>\n",
       "      <td>manual</td>\n",
       "      <td>rear_wheel_drive</td>\n",
       "      <td>2.0</td>\n",
       "      <td>luxury,performance</td>\n",
       "      <td>compact</td>\n",
       "      <td>convertible</td>\n",
       "      <td>28</td>\n",
       "      <td>19</td>\n",
       "      <td>3916</td>\n",
       "      <td>40650</td>\n",
       "    </tr>\n",
       "    <tr>\n",
       "      <th>2</th>\n",
       "      <td>bmw</td>\n",
       "      <td>1_series</td>\n",
       "      <td>2011</td>\n",
       "      <td>premium_unleaded_(required)</td>\n",
       "      <td>300.0</td>\n",
       "      <td>6.0</td>\n",
       "      <td>manual</td>\n",
       "      <td>rear_wheel_drive</td>\n",
       "      <td>2.0</td>\n",
       "      <td>luxury,high-performance</td>\n",
       "      <td>compact</td>\n",
       "      <td>coupe</td>\n",
       "      <td>28</td>\n",
       "      <td>20</td>\n",
       "      <td>3916</td>\n",
       "      <td>36350</td>\n",
       "    </tr>\n",
       "    <tr>\n",
       "      <th>3</th>\n",
       "      <td>bmw</td>\n",
       "      <td>1_series</td>\n",
       "      <td>2011</td>\n",
       "      <td>premium_unleaded_(required)</td>\n",
       "      <td>230.0</td>\n",
       "      <td>6.0</td>\n",
       "      <td>manual</td>\n",
       "      <td>rear_wheel_drive</td>\n",
       "      <td>2.0</td>\n",
       "      <td>luxury,performance</td>\n",
       "      <td>compact</td>\n",
       "      <td>coupe</td>\n",
       "      <td>28</td>\n",
       "      <td>18</td>\n",
       "      <td>3916</td>\n",
       "      <td>29450</td>\n",
       "    </tr>\n",
       "    <tr>\n",
       "      <th>4</th>\n",
       "      <td>bmw</td>\n",
       "      <td>1_series</td>\n",
       "      <td>2011</td>\n",
       "      <td>premium_unleaded_(required)</td>\n",
       "      <td>230.0</td>\n",
       "      <td>6.0</td>\n",
       "      <td>manual</td>\n",
       "      <td>rear_wheel_drive</td>\n",
       "      <td>2.0</td>\n",
       "      <td>luxury</td>\n",
       "      <td>compact</td>\n",
       "      <td>convertible</td>\n",
       "      <td>28</td>\n",
       "      <td>18</td>\n",
       "      <td>3916</td>\n",
       "      <td>34500</td>\n",
       "    </tr>\n",
       "  </tbody>\n",
       "</table>\n",
       "</div>"
      ],
      "text/plain": [
       "  make       model  year             engine_fuel_type  engine_hp  \\\n",
       "0  bmw  1_series_m  2011  premium_unleaded_(required)      335.0   \n",
       "1  bmw    1_series  2011  premium_unleaded_(required)      300.0   \n",
       "2  bmw    1_series  2011  premium_unleaded_(required)      300.0   \n",
       "3  bmw    1_series  2011  premium_unleaded_(required)      230.0   \n",
       "4  bmw    1_series  2011  premium_unleaded_(required)      230.0   \n",
       "\n",
       "   engine_cylinders transmission_type     driven_wheels  number_of_doors  \\\n",
       "0               6.0            manual  rear_wheel_drive              2.0   \n",
       "1               6.0            manual  rear_wheel_drive              2.0   \n",
       "2               6.0            manual  rear_wheel_drive              2.0   \n",
       "3               6.0            manual  rear_wheel_drive              2.0   \n",
       "4               6.0            manual  rear_wheel_drive              2.0   \n",
       "\n",
       "                         market_category vehicle_size vehicle_style  \\\n",
       "0  factory_tuner,luxury,high-performance      compact         coupe   \n",
       "1                     luxury,performance      compact   convertible   \n",
       "2                luxury,high-performance      compact         coupe   \n",
       "3                     luxury,performance      compact         coupe   \n",
       "4                                 luxury      compact   convertible   \n",
       "\n",
       "   highway_mpg  city_mpg  popularity   msrp  \n",
       "0           26        19        3916  46135  \n",
       "1           28        19        3916  40650  \n",
       "2           28        20        3916  36350  \n",
       "3           28        18        3916  29450  \n",
       "4           28        18        3916  34500  "
      ]
     },
     "execution_count": 9,
     "metadata": {},
     "output_type": "execute_result"
    }
   ],
   "source": [
    "# проверим, что получилось\n",
    "\n",
    "df.head()"
   ]
  },
  {
   "cell_type": "code",
   "execution_count": 10,
   "id": "3e23aa39",
   "metadata": {},
   "outputs": [
    {
     "data": {
      "text/html": [
       "<div>\n",
       "<style scoped>\n",
       "    .dataframe tbody tr th:only-of-type {\n",
       "        vertical-align: middle;\n",
       "    }\n",
       "\n",
       "    .dataframe tbody tr th {\n",
       "        vertical-align: top;\n",
       "    }\n",
       "\n",
       "    .dataframe thead th {\n",
       "        text-align: right;\n",
       "    }\n",
       "</style>\n",
       "<table border=\"1\" class=\"dataframe\">\n",
       "  <thead>\n",
       "    <tr style=\"text-align: right;\">\n",
       "      <th></th>\n",
       "      <th>year</th>\n",
       "      <th>engine_hp</th>\n",
       "      <th>engine_cylinders</th>\n",
       "      <th>number_of_doors</th>\n",
       "      <th>highway_mpg</th>\n",
       "      <th>city_mpg</th>\n",
       "      <th>popularity</th>\n",
       "      <th>msrp</th>\n",
       "    </tr>\n",
       "  </thead>\n",
       "  <tbody>\n",
       "    <tr>\n",
       "      <th>count</th>\n",
       "      <td>11914.000000</td>\n",
       "      <td>11845.00000</td>\n",
       "      <td>11884.000000</td>\n",
       "      <td>11908.000000</td>\n",
       "      <td>11914.000000</td>\n",
       "      <td>11914.000000</td>\n",
       "      <td>11914.000000</td>\n",
       "      <td>1.191400e+04</td>\n",
       "    </tr>\n",
       "    <tr>\n",
       "      <th>mean</th>\n",
       "      <td>2010.384338</td>\n",
       "      <td>249.38607</td>\n",
       "      <td>5.628829</td>\n",
       "      <td>3.436093</td>\n",
       "      <td>26.637485</td>\n",
       "      <td>19.733255</td>\n",
       "      <td>1554.911197</td>\n",
       "      <td>4.059474e+04</td>\n",
       "    </tr>\n",
       "    <tr>\n",
       "      <th>std</th>\n",
       "      <td>7.579740</td>\n",
       "      <td>109.19187</td>\n",
       "      <td>1.780559</td>\n",
       "      <td>0.881315</td>\n",
       "      <td>8.863001</td>\n",
       "      <td>8.987798</td>\n",
       "      <td>1441.855347</td>\n",
       "      <td>6.010910e+04</td>\n",
       "    </tr>\n",
       "    <tr>\n",
       "      <th>min</th>\n",
       "      <td>1990.000000</td>\n",
       "      <td>55.00000</td>\n",
       "      <td>0.000000</td>\n",
       "      <td>2.000000</td>\n",
       "      <td>12.000000</td>\n",
       "      <td>7.000000</td>\n",
       "      <td>2.000000</td>\n",
       "      <td>2.000000e+03</td>\n",
       "    </tr>\n",
       "    <tr>\n",
       "      <th>25%</th>\n",
       "      <td>2007.000000</td>\n",
       "      <td>170.00000</td>\n",
       "      <td>4.000000</td>\n",
       "      <td>2.000000</td>\n",
       "      <td>22.000000</td>\n",
       "      <td>16.000000</td>\n",
       "      <td>549.000000</td>\n",
       "      <td>2.100000e+04</td>\n",
       "    </tr>\n",
       "    <tr>\n",
       "      <th>50%</th>\n",
       "      <td>2015.000000</td>\n",
       "      <td>227.00000</td>\n",
       "      <td>6.000000</td>\n",
       "      <td>4.000000</td>\n",
       "      <td>26.000000</td>\n",
       "      <td>18.000000</td>\n",
       "      <td>1385.000000</td>\n",
       "      <td>2.999500e+04</td>\n",
       "    </tr>\n",
       "    <tr>\n",
       "      <th>75%</th>\n",
       "      <td>2016.000000</td>\n",
       "      <td>300.00000</td>\n",
       "      <td>6.000000</td>\n",
       "      <td>4.000000</td>\n",
       "      <td>30.000000</td>\n",
       "      <td>22.000000</td>\n",
       "      <td>2009.000000</td>\n",
       "      <td>4.223125e+04</td>\n",
       "    </tr>\n",
       "    <tr>\n",
       "      <th>max</th>\n",
       "      <td>2017.000000</td>\n",
       "      <td>1001.00000</td>\n",
       "      <td>16.000000</td>\n",
       "      <td>4.000000</td>\n",
       "      <td>354.000000</td>\n",
       "      <td>137.000000</td>\n",
       "      <td>5657.000000</td>\n",
       "      <td>2.065902e+06</td>\n",
       "    </tr>\n",
       "  </tbody>\n",
       "</table>\n",
       "</div>"
      ],
      "text/plain": [
       "               year    engine_hp  engine_cylinders  number_of_doors  \\\n",
       "count  11914.000000  11845.00000      11884.000000     11908.000000   \n",
       "mean    2010.384338    249.38607          5.628829         3.436093   \n",
       "std        7.579740    109.19187          1.780559         0.881315   \n",
       "min     1990.000000     55.00000          0.000000         2.000000   \n",
       "25%     2007.000000    170.00000          4.000000         2.000000   \n",
       "50%     2015.000000    227.00000          6.000000         4.000000   \n",
       "75%     2016.000000    300.00000          6.000000         4.000000   \n",
       "max     2017.000000   1001.00000         16.000000         4.000000   \n",
       "\n",
       "        highway_mpg      city_mpg    popularity          msrp  \n",
       "count  11914.000000  11914.000000  11914.000000  1.191400e+04  \n",
       "mean      26.637485     19.733255   1554.911197  4.059474e+04  \n",
       "std        8.863001      8.987798   1441.855347  6.010910e+04  \n",
       "min       12.000000      7.000000      2.000000  2.000000e+03  \n",
       "25%       22.000000     16.000000    549.000000  2.100000e+04  \n",
       "50%       26.000000     18.000000   1385.000000  2.999500e+04  \n",
       "75%       30.000000     22.000000   2009.000000  4.223125e+04  \n",
       "max      354.000000    137.000000   5657.000000  2.065902e+06  "
      ]
     },
     "execution_count": 10,
     "metadata": {},
     "output_type": "execute_result"
    }
   ],
   "source": [
    "# информация по числовым параметрам\n",
    "\n",
    "df.describe()"
   ]
  },
  {
   "cell_type": "markdown",
   "id": "c72ea82b",
   "metadata": {},
   "source": [
    "Немного настораживает минимальное количество цилиндров двигателя (engine_cylinders) равное нулю. Скорее всего, это ошибка. Но пока оставим эти значения без изменения. При построении модели ноль будет соответствовать отсутствию информации и параметр engine_cylinders не будет приниматься в расчет."
   ]
  },
  {
   "cell_type": "code",
   "execution_count": 14,
   "id": "6e303805",
   "metadata": {},
   "outputs": [
    {
     "data": {
      "text/plain": [
       "<AxesSubplot:xlabel='msrp', ylabel='Count'>"
      ]
     },
     "execution_count": 14,
     "metadata": {},
     "output_type": "execute_result"
    },
    {
     "data": {
      "image/png": "[encoded data removed]",
      "text/plain": [
       "<Figure size 640x480 with 1 Axes>"
      ]
     },
     "metadata": {},
     "output_type": "display_data"
    }
   ],
   "source": [
    "# MSPR (Рекомендованная производителем розничная цена) - целевой параметр. Рассмотрим его внимательнее, построив гистограмму\n",
    "\n",
    "sns.histplot(df.msrp, bins=50)"
   ]
  },
  {
   "cell_type": "markdown",
   "id": "1f23389a",
   "metadata": {},
   "source": [
    "Видно очень много автомобилей до 30 тыс.\\\\$, немного от 30 тыс. до 50 тыс.\\\\$ и совсем мало от 50 тыс. до 2 млн.\\\\$."
   ]
  },
  {
   "cell_type": "code",
   "execution_count": 15,
   "id": "09295dcb",
   "metadata": {},
   "outputs": [
    {
     "data": {
      "text/plain": [
       "<AxesSubplot:xlabel='msrp', ylabel='Count'>"
      ]
     },
     "execution_count": 15,
     "metadata": {},
     "output_type": "execute_result"
    },
    {
     "data": {
      "image/png": "[encoded data removed]",
      "text/plain": [
       "<Figure size 640x480 with 1 Axes>"
      ]
     },
     "metadata": {},
     "output_type": "display_data"
    }
   ],
   "source": [
    "sns.histplot(df.msrp[df.msrp < 100000])"
   ]
  },
  {
   "cell_type": "markdown",
   "id": "99f0f680",
   "metadata": {},
   "source": [
    "Длинный хвост в распределении цен может оказать негативное влияние на модель. В таких случаях рекомендуется использовать логарифмическое преобразование. "
   ]
  },
  {
   "cell_type": "code",
   "execution_count": 16,
   "id": "514cce53",
   "metadata": {},
   "outputs": [],
   "source": [
    "# log_msrp = log(msrp + 1)\n",
    "\n",
    "log_msrp = np.log1p(df.msrp)"
   ]
  },
  {
   "cell_type": "code",
   "execution_count": 17,
   "id": "db44d260",
   "metadata": {},
   "outputs": [
    {
     "data": {
      "text/plain": [
       "<AxesSubplot:xlabel='msrp', ylabel='Count'>"
      ]
     },
     "execution_count": 17,
     "metadata": {},
     "output_type": "execute_result"
    },
    {
     "data": {
      "image/png": "[encoded data removed]",
      "text/plain": [
       "<Figure size 640x480 with 1 Axes>"
      ]
     },
     "metadata": {},
     "output_type": "display_data"
    }
   ],
   "source": [
    "# гистограмма цены после логарифмического преобразования\n",
    "\n",
    "sns.histplot(log_msrp, bins=40)"
   ]
  },
  {
   "cell_type": "markdown",
   "id": "27125567",
   "metadata": {},
   "source": [
    "Хвост \"пропал\". Получилось распределение, похожее на нормальное, но бимодальное (обусловленное большим количеством дешевых автомобилей)."
   ]
  },
  {
   "cell_type": "code",
   "execution_count": 18,
   "id": "a1e05ea0",
   "metadata": {},
   "outputs": [
    {
     "data": {
      "text/plain": [
       "make                    0\n",
       "model                   0\n",
       "year                    0\n",
       "engine_fuel_type        3\n",
       "engine_hp              69\n",
       "engine_cylinders       30\n",
       "transmission_type       0\n",
       "driven_wheels           0\n",
       "number_of_doors         6\n",
       "market_category      3742\n",
       "vehicle_size            0\n",
       "vehicle_style           0\n",
       "highway_mpg             0\n",
       "city_mpg                0\n",
       "popularity              0\n",
       "msrp                    0\n",
       "dtype: int64"
      ]
     },
     "execution_count": 18,
     "metadata": {},
     "output_type": "execute_result"
    }
   ],
   "source": [
    "# сосчитаем количество пропусков в колонках\n",
    "\n",
    "df.isnull().sum()"
   ]
  },
  {
   "cell_type": "code",
   "execution_count": 19,
   "id": "159ccb01",
   "metadata": {},
   "outputs": [],
   "source": [
    "# заполним пропущенные данные в колонке market_category пустой строкой ('').\n",
    "# это пригодится нам позже, когда мы будем искать ключевые слова в строках (0 в таком случае будет мешать)\n",
    "\n",
    "df['market_category'].fillna('', inplace=True)"
   ]
  },
  {
   "cell_type": "code",
   "execution_count": 20,
   "id": "f11f9a77",
   "metadata": {},
   "outputs": [
    {
     "data": {
      "text/plain": [
       "make                  0\n",
       "model                 0\n",
       "year                  0\n",
       "engine_fuel_type      3\n",
       "engine_hp            69\n",
       "engine_cylinders     30\n",
       "transmission_type     0\n",
       "driven_wheels         0\n",
       "number_of_doors       6\n",
       "market_category       0\n",
       "vehicle_size          0\n",
       "vehicle_style         0\n",
       "highway_mpg           0\n",
       "city_mpg              0\n",
       "popularity            0\n",
       "msrp                  0\n",
       "dtype: int64"
      ]
     },
     "execution_count": 20,
     "metadata": {},
     "output_type": "execute_result"
    }
   ],
   "source": [
    "df.isnull().sum()"
   ]
  },
  {
   "cell_type": "code",
   "execution_count": 21,
   "id": "41574d34",
   "metadata": {},
   "outputs": [
    {
     "data": {
      "text/plain": [
       "make                 0\n",
       "model                0\n",
       "year                 0\n",
       "engine_fuel_type     0\n",
       "engine_hp            0\n",
       "engine_cylinders     0\n",
       "transmission_type    0\n",
       "driven_wheels        0\n",
       "number_of_doors      0\n",
       "market_category      0\n",
       "vehicle_size         0\n",
       "vehicle_style        0\n",
       "highway_mpg          0\n",
       "city_mpg             0\n",
       "popularity           0\n",
       "msrp                 0\n",
       "dtype: int64"
      ]
     },
     "execution_count": 21,
     "metadata": {},
     "output_type": "execute_result"
    }
   ],
   "source": [
    "# заполним пропущеные данные нулями. как и в случае с параметром engine_cylinders, ноль будет означать отсутствие информации\n",
    "\n",
    "df = df.fillna(0)\n",
    "df.isnull().sum()"
   ]
  },
  {
   "cell_type": "markdown",
   "id": "8d473ffc",
   "metadata": {},
   "source": [
    "## 2. Разделение исходного датафрейма на несколько наборов данных"
   ]
  },
  {
   "cell_type": "markdown",
   "id": "2a48af09",
   "metadata": {},
   "source": [
    "Разобьем весть датафрейм на 3 части: для обучения (60 %), проверочный (20 %) и тестовый (20 %).  \n",
    "(Так как цель проекта не отработка модели, а иллюстрация использования метода линейной регрессии, то не будем заморачиваться с кросс-валидацией)"
   ]
  },
  {
   "cell_type": "code",
   "execution_count": 22,
   "id": "cc9f217c",
   "metadata": {},
   "outputs": [],
   "source": [
    "n = len(df)                 # количество строк в исходном датафрейме\n",
    "\n",
    "n_val = int(0.2 * n)        # количество строк на проверочный\n",
    "n_test = int(0.2 * n)       # количество строк на тестовый\n",
    "n_train = int(0.6 * n)      # количество строк на обучающий"
   ]
  },
  {
   "cell_type": "code",
   "execution_count": 23,
   "id": "970fcfbb",
   "metadata": {},
   "outputs": [],
   "source": [
    "# для обеспечения воспроизводимости результатов зафиксируем начальное значение рандомайзера, создадим массив и перемешаем его\n",
    "\n",
    "np.random.seed(2)\n",
    "idx = np.arange(n)\n",
    "np.random.shuffle(idx)"
   ]
  },
  {
   "cell_type": "code",
   "execution_count": 24,
   "id": "d2d76e29",
   "metadata": {},
   "outputs": [
    {
     "data": {
      "text/html": [
       "<div>\n",
       "<style scoped>\n",
       "    .dataframe tbody tr th:only-of-type {\n",
       "        vertical-align: middle;\n",
       "    }\n",
       "\n",
       "    .dataframe tbody tr th {\n",
       "        vertical-align: top;\n",
       "    }\n",
       "\n",
       "    .dataframe thead th {\n",
       "        text-align: right;\n",
       "    }\n",
       "</style>\n",
       "<table border=\"1\" class=\"dataframe\">\n",
       "  <thead>\n",
       "    <tr style=\"text-align: right;\">\n",
       "      <th></th>\n",
       "      <th>make</th>\n",
       "      <th>model</th>\n",
       "      <th>year</th>\n",
       "      <th>engine_fuel_type</th>\n",
       "      <th>engine_hp</th>\n",
       "      <th>engine_cylinders</th>\n",
       "      <th>transmission_type</th>\n",
       "      <th>driven_wheels</th>\n",
       "      <th>number_of_doors</th>\n",
       "      <th>market_category</th>\n",
       "      <th>vehicle_size</th>\n",
       "      <th>vehicle_style</th>\n",
       "      <th>highway_mpg</th>\n",
       "      <th>city_mpg</th>\n",
       "      <th>popularity</th>\n",
       "      <th>msrp</th>\n",
       "    </tr>\n",
       "  </thead>\n",
       "  <tbody>\n",
       "    <tr>\n",
       "      <th>2735</th>\n",
       "      <td>chevrolet</td>\n",
       "      <td>cobalt</td>\n",
       "      <td>2008</td>\n",
       "      <td>regular_unleaded</td>\n",
       "      <td>148.0</td>\n",
       "      <td>4.0</td>\n",
       "      <td>manual</td>\n",
       "      <td>front_wheel_drive</td>\n",
       "      <td>2.0</td>\n",
       "      <td></td>\n",
       "      <td>compact</td>\n",
       "      <td>coupe</td>\n",
       "      <td>33</td>\n",
       "      <td>24</td>\n",
       "      <td>1385</td>\n",
       "      <td>14410</td>\n",
       "    </tr>\n",
       "    <tr>\n",
       "      <th>6720</th>\n",
       "      <td>toyota</td>\n",
       "      <td>matrix</td>\n",
       "      <td>2012</td>\n",
       "      <td>regular_unleaded</td>\n",
       "      <td>132.0</td>\n",
       "      <td>4.0</td>\n",
       "      <td>automatic</td>\n",
       "      <td>front_wheel_drive</td>\n",
       "      <td>4.0</td>\n",
       "      <td>hatchback</td>\n",
       "      <td>compact</td>\n",
       "      <td>4dr_hatchback</td>\n",
       "      <td>32</td>\n",
       "      <td>25</td>\n",
       "      <td>2031</td>\n",
       "      <td>19685</td>\n",
       "    </tr>\n",
       "    <tr>\n",
       "      <th>5878</th>\n",
       "      <td>subaru</td>\n",
       "      <td>impreza</td>\n",
       "      <td>2016</td>\n",
       "      <td>regular_unleaded</td>\n",
       "      <td>148.0</td>\n",
       "      <td>4.0</td>\n",
       "      <td>automatic</td>\n",
       "      <td>all_wheel_drive</td>\n",
       "      <td>4.0</td>\n",
       "      <td>hatchback</td>\n",
       "      <td>compact</td>\n",
       "      <td>4dr_hatchback</td>\n",
       "      <td>37</td>\n",
       "      <td>28</td>\n",
       "      <td>640</td>\n",
       "      <td>19795</td>\n",
       "    </tr>\n",
       "    <tr>\n",
       "      <th>11190</th>\n",
       "      <td>volkswagen</td>\n",
       "      <td>vanagon</td>\n",
       "      <td>1991</td>\n",
       "      <td>regular_unleaded</td>\n",
       "      <td>90.0</td>\n",
       "      <td>4.0</td>\n",
       "      <td>manual</td>\n",
       "      <td>rear_wheel_drive</td>\n",
       "      <td>3.0</td>\n",
       "      <td></td>\n",
       "      <td>large</td>\n",
       "      <td>passenger_minivan</td>\n",
       "      <td>18</td>\n",
       "      <td>16</td>\n",
       "      <td>873</td>\n",
       "      <td>2000</td>\n",
       "    </tr>\n",
       "    <tr>\n",
       "      <th>4554</th>\n",
       "      <td>ford</td>\n",
       "      <td>f-150</td>\n",
       "      <td>2017</td>\n",
       "      <td>flex-fuel_(unleaded/e85)</td>\n",
       "      <td>385.0</td>\n",
       "      <td>8.0</td>\n",
       "      <td>automatic</td>\n",
       "      <td>four_wheel_drive</td>\n",
       "      <td>4.0</td>\n",
       "      <td>flex_fuel</td>\n",
       "      <td>large</td>\n",
       "      <td>crew_cab_pickup</td>\n",
       "      <td>21</td>\n",
       "      <td>15</td>\n",
       "      <td>5657</td>\n",
       "      <td>56260</td>\n",
       "    </tr>\n",
       "  </tbody>\n",
       "</table>\n",
       "</div>"
      ],
      "text/plain": [
       "             make    model  year          engine_fuel_type  engine_hp  \\\n",
       "2735    chevrolet   cobalt  2008          regular_unleaded      148.0   \n",
       "6720       toyota   matrix  2012          regular_unleaded      132.0   \n",
       "5878       subaru  impreza  2016          regular_unleaded      148.0   \n",
       "11190  volkswagen  vanagon  1991          regular_unleaded       90.0   \n",
       "4554         ford    f-150  2017  flex-fuel_(unleaded/e85)      385.0   \n",
       "\n",
       "       engine_cylinders transmission_type      driven_wheels  number_of_doors  \\\n",
       "2735                4.0            manual  front_wheel_drive              2.0   \n",
       "6720                4.0         automatic  front_wheel_drive              4.0   \n",
       "5878                4.0         automatic    all_wheel_drive              4.0   \n",
       "11190               4.0            manual   rear_wheel_drive              3.0   \n",
       "4554                8.0         automatic   four_wheel_drive              4.0   \n",
       "\n",
       "      market_category vehicle_size      vehicle_style  highway_mpg  city_mpg  \\\n",
       "2735                       compact              coupe           33        24   \n",
       "6720        hatchback      compact      4dr_hatchback           32        25   \n",
       "5878        hatchback      compact      4dr_hatchback           37        28   \n",
       "11190                        large  passenger_minivan           18        16   \n",
       "4554        flex_fuel        large    crew_cab_pickup           21        15   \n",
       "\n",
       "       popularity   msrp  \n",
       "2735         1385  14410  \n",
       "6720         2031  19685  \n",
       "5878          640  19795  \n",
       "11190         873   2000  \n",
       "4554         5657  56260  "
      ]
     },
     "execution_count": 24,
     "metadata": {},
     "output_type": "execute_result"
    }
   ],
   "source": [
    "# используем полученный массив для создания нового перемешанного датафрейма\n",
    "\n",
    "df_shuffled = df.iloc[idx]\n",
    "df_shuffled.head()"
   ]
  },
  {
   "cell_type": "code",
   "execution_count": 25,
   "id": "9d40e21f",
   "metadata": {},
   "outputs": [],
   "source": [
    "# создаем 3 запланированных набора данных из перемешанного датафрейма. чтобы не влиять на исходные данные, создаем копию.\n",
    "\n",
    "df_train = df_shuffled.iloc[: n_train].copy() \n",
    "df_val = df_shuffled.iloc[n_train : n_train + n_val].copy()\n",
    "df_test = df_shuffled.iloc[n_train + n_val :].copy()"
   ]
  },
  {
   "cell_type": "code",
   "execution_count": 26,
   "id": "f6f1f971",
   "metadata": {},
   "outputs": [],
   "source": [
    "# значения целевой переменной (цена автомобиля) для каждого датафрейма\n",
    "\n",
    "y_train = np.log1p(df_train.msrp.values)\n",
    "y_val = np.log1p(df_val.msrp.values)\n",
    "y_test = np.log1p(df_test.msrp.values)"
   ]
  },
  {
   "cell_type": "code",
   "execution_count": 27,
   "id": "143d884b",
   "metadata": {},
   "outputs": [],
   "source": [
    "# в каждом наборе данных создадим колонку с логарифмированным значением msrp. \n",
    "# колонку msrp удалим, чтобы исключить возможность случайного использования при построении предсказательной модели\n",
    "\n",
    "for df_ in [df_train, df_val, df_test]:\n",
    "    df_['log_msrp'] = np.log1p(df_['msrp'])\n",
    "    del df_['msrp']"
   ]
  },
  {
   "cell_type": "code",
   "execution_count": 28,
   "id": "65d25f3b",
   "metadata": {},
   "outputs": [
    {
     "name": "stdout",
     "output_type": "stream",
     "text": [
      "Итак, у нас имеются 8 числовых колонок и 8 колонок с категориальными признаками.\n"
     ]
    }
   ],
   "source": [
    "num_cols = len(list(df.dtypes[(df.dtypes == 'int64') | (df.dtypes == 'float64')].index))\n",
    "cat_cols = len(list(df.dtypes[df.dtypes == 'object'].index))\n",
    "\n",
    "print(f'Итак, у нас имеются {num_cols} числовых колонок и {cat_cols} колонок с категориальными признаками.')"
   ]
  },
  {
   "cell_type": "markdown",
   "id": "c7a6c952",
   "metadata": {},
   "source": [
    "Переведем переменную year в age, а переменную number_of_doors будем считать категориальной. Все категориальные переменные переведем в числовые."
   ]
  },
  {
   "cell_type": "code",
   "execution_count": 29,
   "id": "be79e4c4",
   "metadata": {},
   "outputs": [],
   "source": [
    "# заменим во всех 3 наборах данных колонку year на колонку age\n",
    "\n",
    "max_year = df['year'].max()                      # максимальный год. будем считать возраст от него\n",
    "for dfrm in [df_train, df_val, df_test]:\n",
    "    dfrm['age'] = max_year - dfrm['year']\n",
    "    del dfrm['year']"
   ]
  },
  {
   "cell_type": "code",
   "execution_count": 30,
   "id": "a4fdf2b8",
   "metadata": {},
   "outputs": [
    {
     "data": {
      "text/plain": [
       "['engine_hp',\n",
       " 'engine_cylinders',\n",
       " 'highway_mpg',\n",
       " 'city_mpg',\n",
       " 'popularity',\n",
       " 'age']"
      ]
     },
     "execution_count": 30,
     "metadata": {},
     "output_type": "execute_result"
    }
   ],
   "source": [
    "# определим в качестве базового набора характеристик числовые признаки за исключением number_of_doors\n",
    "\n",
    "base_features = [col for col in df_train.columns if df_train[col].dtypes != 'object' and col != 'number_of_doors' and col != 'log_msrp']\n",
    "base_features"
   ]
  },
  {
   "cell_type": "markdown",
   "id": "31a8361e",
   "metadata": {},
   "source": [
    "## 3. Немного о линейной регрессии"
   ]
  },
  {
   "cell_type": "markdown",
   "id": "b24f86e5",
   "metadata": {},
   "source": [
    "Предсказываемый параметр $ y $ (логарифм цены автомобиля) находится по формуле:  \n",
    "$$ y = g(x), $$ \n",
    "где $ x $ - вектор  признаков/характеристик,  а $ g(x) $ - функция, имеющая вид \n",
    "$$ g(x) = a_0 + a_1 * x_1 + ... + a_n * x_n .$$  \n",
    "Для удобства вычислений примем, что $ x_0 = 1 ,$ тогда  \n",
    "$$ a_0 * x_0 = a_0 $$\n",
    "$$ g(x)=\\Sigma^{n}_{j=0}x_j * a_j $$  \n",
    "Для множества наблюдений вектор $ x $ заменяется матрицей $ X $.  \n",
    "\n",
    "Вектор коэффициентов/весов $ a $ находится по формуле\n",
    "$$ a = (X^T * X)^{-1} * X^T * y ,$$  \n",
    "где \\$ X^T \\$ - транспонированая матрица $ X $."
   ]
  },
  {
   "cell_type": "code",
   "execution_count": 31,
   "id": "0c72c1d6",
   "metadata": {},
   "outputs": [],
   "source": [
    "# определим функцию линейной регрессии на основе NumPy\n",
    "\n",
    "def train_linear_regression(X, y):\n",
    "    ones = np.ones(X.shape[0])                  # создание массива из 1\n",
    "    X = np.column_stack([ones, X])              # добавление массива из 1 в качестве первого столбца (х0=1)\n",
    "    \n",
    "    XTX = X.T.dot(X)                            # транспорируем матрицу Х и умножаем на исходную матрицу Х\n",
    "    XTX_inv = np.linalg.inv(XTX)                # вычисляем (XT * X)^(-1)\n",
    "    a = XTX_inv.dot(X.T).dot(y)                 # вычисляем оставшуюся часть\n",
    "    \n",
    "    return a[0], a[1:]"
   ]
  },
  {
   "cell_type": "markdown",
   "id": "faf2fd52",
   "metadata": {},
   "source": [
    "## 4. Обучение модели на базовом наборе *числовых* характеристик"
   ]
  },
  {
   "cell_type": "code",
   "execution_count": 32,
   "id": "4d8d6427",
   "metadata": {},
   "outputs": [
    {
     "data": {
      "text/plain": [
       "(7148, 6)"
      ]
     },
     "execution_count": 32,
     "metadata": {},
     "output_type": "execute_result"
    }
   ],
   "source": [
    "# создадим датафрейм для обучения с базовым набором характеристик\n",
    " \n",
    "df_train_base = df_train[base_features]\n",
    "X_train_base = df_train_base.values\n",
    "X_train_base.shape"
   ]
  },
  {
   "cell_type": "code",
   "execution_count": 33,
   "id": "6896c8cc",
   "metadata": {},
   "outputs": [],
   "source": [
    "# используем функцию для нахождения коэффициентов линейной регрессии\n",
    "\n",
    "a_0, a = train_linear_regression(X_train_base, y_train)"
   ]
  },
  {
   "cell_type": "code",
   "execution_count": 34,
   "id": "1ccded08",
   "metadata": {},
   "outputs": [],
   "source": [
    "# построим прогноз цены на основе полученных коэффициентов\n",
    "\n",
    "y_pred_base = a_0 + X_train_base.dot(a)"
   ]
  },
  {
   "cell_type": "code",
   "execution_count": 35,
   "id": "52452b1a",
   "metadata": {},
   "outputs": [
    {
     "data": {
      "text/plain": [
       "<matplotlib.legend.Legend at 0x25251a18730>"
      ]
     },
     "execution_count": 35,
     "metadata": {},
     "output_type": "execute_result"
    },
    {
     "data": {
      "image/png": "[encoded data removed]",
      "text/plain": [
       "<Figure size 640x480 with 1 Axes>"
      ]
     },
     "metadata": {},
     "output_type": "display_data"
    }
   ],
   "source": [
    "# сравним на диаграмме истинные и предсказанные значения\n",
    "\n",
    "sns.histplot(y_pred_base, label='prediction', color='r')\n",
    "sns.histplot(y_train, label='target')\n",
    "plt.legend()"
   ]
  },
  {
   "cell_type": "markdown",
   "id": "d0f2c6f2",
   "metadata": {},
   "source": [
    "Распределение предсказанных значений близко к фактическому, но с серьезными отклонениями. Особенно в области дешевых автомобилей.  \n",
    "Проведем оценку качества модели с помощью метрики RMSE (корень среднеквадратичной ошибки)."
   ]
  },
  {
   "cell_type": "code",
   "execution_count": 36,
   "id": "fea11f9d",
   "metadata": {},
   "outputs": [],
   "source": [
    "# функция для вычисления RMSE\n",
    "\n",
    "def rmse(y, y_pred):\n",
    "    error = y_pred - y\n",
    "    mse = (error ** 2).mean()\n",
    "    rmse = np.sqrt(mse)\n",
    "    return rmse"
   ]
  },
  {
   "cell_type": "code",
   "execution_count": 37,
   "id": "a5a91c48",
   "metadata": {},
   "outputs": [
    {
     "data": {
      "text/plain": [
       "0.5175"
      ]
     },
     "execution_count": 37,
     "metadata": {},
     "output_type": "execute_result"
    }
   ],
   "source": [
    "# рассчитаем RMSE для модели на основе базовых характеристик\n",
    "\n",
    "round(rmse(y_train, y_pred_base), 4)"
   ]
  },
  {
   "cell_type": "markdown",
   "id": "37b57f39",
   "metadata": {},
   "source": [
    "Корень среднеквадратичной ошибки довольно маленький. Но осталась еще куча неиспользованных параметров. Попробуем использовать их, чтобы улучшить модель."
   ]
  },
  {
   "cell_type": "markdown",
   "id": "b00ca874",
   "metadata": {},
   "source": [
    "## 5. Конструирование новых признаков"
   ]
  },
  {
   "cell_type": "markdown",
   "id": "955df57c",
   "metadata": {},
   "source": [
    "Для начала надо перевести все категориальные признаки в числовые."
   ]
  },
  {
   "cell_type": "code",
   "execution_count": 38,
   "id": "009f70d2",
   "metadata": {},
   "outputs": [
    {
     "data": {
      "text/plain": [
       "['make',\n",
       " 'model',\n",
       " 'engine_fuel_type',\n",
       " 'transmission_type',\n",
       " 'driven_wheels',\n",
       " 'number_of_doors',\n",
       " 'market_category',\n",
       " 'vehicle_size',\n",
       " 'vehicle_style']"
      ]
     },
     "execution_count": 38,
     "metadata": {},
     "output_type": "execute_result"
    }
   ],
   "source": [
    "# определим колонки с категориальными переменными и добавим к ним number_of_doors\n",
    "\n",
    "cat_features = [col for col in df_train.columns if df_train[col].dtypes == 'object' or col == 'number_of_doors']\n",
    "cat_features"
   ]
  },
  {
   "cell_type": "code",
   "execution_count": 39,
   "id": "79821d3e",
   "metadata": {},
   "outputs": [
    {
     "name": "stdout",
     "output_type": "stream",
     "text": [
      " make - 48\n",
      " model - 914\n",
      " engine_fuel_type - 11\n",
      " transmission_type - 5\n",
      " driven_wheels - 4\n",
      " number_of_doors - 4\n",
      " market_category - 72\n",
      " vehicle_size - 3\n",
      " vehicle_style - 16\n"
     ]
    }
   ],
   "source": [
    "# проверим количество уникальных строк для каждой категориальной переменной\n",
    "\n",
    "for feature in cat_features:\n",
    "    print(f' {feature} - {len(df[feature].unique())}')"
   ]
  },
  {
   "cell_type": "markdown",
   "id": "7712c0ec",
   "metadata": {},
   "source": [
    "Добавить по 3-16 новых признака не проблема. Но вот добавление 48, 72 и, тем более, 914 признаков может перегрузить датафрейм. Желательно как-то сократить количество новых признаков из колонок make, market_category и model.  "
   ]
  },
  {
   "cell_type": "markdown",
   "id": "878d0454",
   "metadata": {},
   "source": [
    "\n",
    "Если посмотреть на колонку market_category, то можно увидеть, что 72 уникальных строки складывается из различных сочетаний ограниченного набора слов. Попробуем вытащить эти слова, подсчитать их количество и использовать для добавления новых признаков. "
   ]
  },
  {
   "cell_type": "code",
   "execution_count": 40,
   "id": "0fb425ef",
   "metadata": {},
   "outputs": [
    {
     "name": "stdout",
     "output_type": "stream",
     "text": [
      "{'flex_fuel', 'crossover', 'diesel', 'high-performance', 'hybrid', 'factory_tuner', 'luxury', 'hatchback', 'performance', 'exotic'} - 10\n"
     ]
    }
   ],
   "source": [
    "# пробежимся по всем записям (ячейкам) колонки market_category и соберем уникальные слова\n",
    "\n",
    "set_market_category = set()                           # пустое множество, куда будем складывать слова\n",
    "\n",
    "for i in range(len(df)):\n",
    "    lst = df['market_category'].iloc[i]               # присваиваем строку в текущей ячейке переменной lst\n",
    "    if lst != '':                                     # помним, что у нас были пропущеные значения, которые мы заменили пустой строкой\n",
    "        set_market_category.update(lst.split(','))    # сплитим строку на отдельные слова и добавляем в множество\n",
    "print(f'{set_market_category} - {len(set_market_category)}')"
   ]
  },
  {
   "cell_type": "markdown",
   "id": "a9b69e94",
   "metadata": {},
   "source": [
    "Всего 10 уникальных слов вместо 72 строк. Успех."
   ]
  },
  {
   "cell_type": "code",
   "execution_count": 41,
   "id": "a5496e07",
   "metadata": {},
   "outputs": [
    {
     "data": {
      "text/plain": [
       "silverado_1500        156\n",
       "tundra                140\n",
       "f-150                 126\n",
       "sierra_1500            90\n",
       "beetle_convertible     89\n",
       "                     ... \n",
       "mkz_hybrid              1\n",
       "m4_gts                  1\n",
       "lfa                     1\n",
       "horizon                 1\n",
       "zephyr                  1\n",
       "Name: model, Length: 914, dtype: int64"
      ]
     },
     "execution_count": 41,
     "metadata": {},
     "output_type": "execute_result"
    }
   ],
   "source": [
    "# рассмотрим внимательнее параметр model.\n",
    "\n",
    "df.model.value_counts()"
   ]
  },
  {
   "cell_type": "code",
   "execution_count": 42,
   "id": "ee54e66e",
   "metadata": {},
   "outputs": [
    {
     "data": {
      "text/plain": [
       "8.0"
      ]
     },
     "execution_count": 42,
     "metadata": {},
     "output_type": "execute_result"
    }
   ],
   "source": [
    "df.model.value_counts().median()"
   ]
  },
  {
   "cell_type": "markdown",
   "id": "06815a96",
   "metadata": {},
   "source": [
    "Итак, у нас 914 уникальных значений на почти 12000 строк записей. При этом больше половины значений встречаются не более 10 раз. Попробуем использовать только n значений, покрывающих 50% записей. "
   ]
  },
  {
   "cell_type": "code",
   "execution_count": 43,
   "id": "5f7931b1",
   "metadata": {},
   "outputs": [
    {
     "name": "stdout",
     "output_type": "stream",
     "text": [
      " Всего строк - 11914.\n",
      " \"Покрыто\" строк - 5971, 50 %.\n",
      " Количество значений - 167.\n",
      " Значения - ['silverado_1500', 'tundra', 'f-150', 'sierra_1500', 'beetle_convertible', 'tacoma', 'gti', 'frontier', 'beetle', 'accord', 'civic', 'dakota', 'ram_pickup_1500', 'jetta', 'corvette', '911', 'c/k_1500_series', 'xc60', 'colorado', '3', '370z', 'sienna', 'golf_gti', 'silverado_1500_classic', 'sierra_1500_classic', 'e-class', 'f-250', 'pilot', 'transit_wagon', 'canyon', 'a3', 'transit_connect', 'passat', 'jetta_gli', 'jetta_sportwagen', 'cts', 'ram_150', 'b-series_pickup', 'sonic', 'xl7', 'ats', 'sorento', 'truck', 'c-class', 'ranger', 'q50', 'expedition', 'new_beetle', 'sonata', 'titan', 'ats_coupe', 's-10', 'range_rover', 'corolla', 'forenza', 'mdx', '3_series', '350z', 'impreza', 'camaro', 'sx4', 'challenger', 'cr-v', 'kizashi', 'camry_solara', 'acadia', '9-3', 'cc', 'v8_vantage', 'jimmy', 'aerio', 's-10_blazer', 'tribute', 'esteem', 'journey', 'b9_tribeca', 'juke', 'trailblazer', 'escalade', 'escalade_esv', '300', 'veloster', '4_series', 'xl-7', 'colt', '300-class', 'terrain', '200', 'cx-5', 'charger', 'encore', 'range_rover_evoque', '500', 'pathfinder', 'outlander_sport', 's60', 'mx-5_miata', 'forte', 'murano', 'durango', 'sequoia', 'explorer_sport_trac', 'golf', 'venza', 'xts', 'traverse', '850', '4runner', 'pickup', 'tiguan', 'gallardo', 'cruze', 'wrx', 'a4', 'r8', 'ram_250', 'suburban', 'routan', 'integra', 'mkz', 'forester', 'mustang', 'tucson', 'elantra', 'rdx', 'rav4', 'range_rover_sport', 'alero', '6_series', 'nitro', 'altima', 'crosstour', 's-class', 'explorer', '900', 'a6', 'equinox', 'equator', 'q70', 'uplander', 'sidekick', 'ridgeline', 'tl', 'g_sedan', 'spectra', 'ramcharger', 'highlander', 'panamera', 'g6', 'venture', 'cts_wagon', 'rabbit', 'gli', 'edge', 'neon', 'trax', 'shadow', 'cobalt', 'xterra', 'element', 'yaris', 'fiesta', 'dart', 'tlx', 'lucerne', 'srx', 'rio']\n"
     ]
    }
   ],
   "source": [
    "i = 0                                    \n",
    "n_models = []                  # список, в который будем помещать модели автомобилей\n",
    "rows = len(df.model)           # количество строк в исходном датафрейме\n",
    "\n",
    "for key, value in df['model'].value_counts().to_dict().items():    # уникальное значение и соответствующее ему количество записей\n",
    "    if i <= rows*0.5:           # ориентируемся на \"покрытие\" не менее 50% строк\n",
    "        i += value\n",
    "        n_models.append(key)\n",
    "print(f' Всего строк - {rows}.\\n \"Покрыто\" строк - {i}, {round(100 * i / rows)} %.\\n\\\n",
    " Количество значений - {len(n_models)}.\\n Значения - {n_models}')"
   ]
  },
  {
   "cell_type": "markdown",
   "id": "a2455443",
   "metadata": {},
   "source": [
    "167 значений гораздо лучше, чем 914."
   ]
  },
  {
   "cell_type": "markdown",
   "id": "b64064a2",
   "metadata": {},
   "source": [
    "С параметром производитель (make), наверное, тоже стоило поступить подобным образом, сократив на 10-50%. Но я оставлю этот параметр без изменения. Мы срезали довольно много моделей, и если убрать часть производителей, то для некоторых автомобилей цена будет определяться совсем некорректно (особенно заметно это должно быть в сегменте премиум/люкс автомобилей, которых мало)."
   ]
  },
  {
   "cell_type": "markdown",
   "id": "610c7e34",
   "metadata": {},
   "source": [
    "Можно переходить непосредственно к кодированию категориальных переменных"
   ]
  },
  {
   "cell_type": "code",
   "execution_count": 44,
   "id": "0319b379",
   "metadata": {},
   "outputs": [],
   "source": [
    "# напишем функцию, переводящую значения категориальных переменных в новые числовые переменные со значениями 1 или 0\n",
    "\n",
    "def prepare_new_features(df, features, set_market_category, n_models):\n",
    "    for feature in features:\n",
    "        if feature == 'market_category':               # для параметра market_category отдельно собраны уникальные значения \n",
    "            for value in set_market_category:\n",
    "                new_feature = f'market_category_{value}'    # название для нового признака\n",
    "                df[new_feature] = df['market_category'].str.contains(value, regex=False).astype(int)  # 1(True) или 0(False) в зависимости от того, содержится ли уникальное слово в ячейке \n",
    "        elif feature == 'model':\n",
    "            list_of_values = n_models                    # список моделей автомобиля\n",
    "        else:\n",
    "            list_of_values = list(df[feature].unique())  # список уникальных значений для остальных категориальных параметров\n",
    "        for value in list_of_values:\n",
    "            if value != 0:                               # нули не нужны\n",
    "                new_feature = f'{feature}_{value}'       # название для нового признака вида 'параметр_уникальное_значение'\n",
    "                df[new_feature] = (df[feature] == value).astype(int)       # 1(True) или 0(False) в зависимости от того, равно ли значение в ячейке текущему уникальному значению параметра"
   ]
  },
  {
   "cell_type": "code",
   "execution_count": 45,
   "id": "ce173dda",
   "metadata": {},
   "outputs": [
    {
     "name": "stderr",
     "output_type": "stream",
     "text": [
      "C:\\Users\\Dmitrii\\AppData\\Local\\Temp\\ipykernel_13600\\3350976463.py:16: PerformanceWarning: DataFrame is highly fragmented.  This is usually the result of calling `frame.insert` many times, which has poor performance.  Consider joining all columns at once using pd.concat(axis=1) instead. To get a de-fragmented frame, use `newframe = frame.copy()`\n",
      "  df[new_feature] = (df[feature] == value).astype(int)       # 1(True) или 0(False) в зависимости от того, равно ли значение в ячейке текущему уникальному значению параметра\n",
      "C:\\Users\\Dmitrii\\AppData\\Local\\Temp\\ipykernel_13600\\3350976463.py:16: PerformanceWarning: DataFrame is highly fragmented.  This is usually the result of calling `frame.insert` many times, which has poor performance.  Consider joining all columns at once using pd.concat(axis=1) instead. To get a de-fragmented frame, use `newframe = frame.copy()`\n",
      "  df[new_feature] = (df[feature] == value).astype(int)       # 1(True) или 0(False) в зависимости от того, равно ли значение в ячейке текущему уникальному значению параметра\n",
      "C:\\Users\\Dmitrii\\AppData\\Local\\Temp\\ipykernel_13600\\3350976463.py:16: PerformanceWarning: DataFrame is highly fragmented.  This is usually the result of calling `frame.insert` many times, which has poor performance.  Consider joining all columns at once using pd.concat(axis=1) instead. To get a de-fragmented frame, use `newframe = frame.copy()`\n",
      "  df[new_feature] = (df[feature] == value).astype(int)       # 1(True) или 0(False) в зависимости от того, равно ли значение в ячейке текущему уникальному значению параметра\n",
      "C:\\Users\\Dmitrii\\AppData\\Local\\Temp\\ipykernel_13600\\3350976463.py:16: PerformanceWarning: DataFrame is highly fragmented.  This is usually the result of calling `frame.insert` many times, which has poor performance.  Consider joining all columns at once using pd.concat(axis=1) instead. To get a de-fragmented frame, use `newframe = frame.copy()`\n",
      "  df[new_feature] = (df[feature] == value).astype(int)       # 1(True) или 0(False) в зависимости от того, равно ли значение в ячейке текущему уникальному значению параметра\n",
      "C:\\Users\\Dmitrii\\AppData\\Local\\Temp\\ipykernel_13600\\3350976463.py:16: PerformanceWarning: DataFrame is highly fragmented.  This is usually the result of calling `frame.insert` many times, which has poor performance.  Consider joining all columns at once using pd.concat(axis=1) instead. To get a de-fragmented frame, use `newframe = frame.copy()`\n",
      "  df[new_feature] = (df[feature] == value).astype(int)       # 1(True) или 0(False) в зависимости от того, равно ли значение в ячейке текущему уникальному значению параметра\n",
      "C:\\Users\\Dmitrii\\AppData\\Local\\Temp\\ipykernel_13600\\3350976463.py:16: PerformanceWarning: DataFrame is highly fragmented.  This is usually the result of calling `frame.insert` many times, which has poor performance.  Consider joining all columns at once using pd.concat(axis=1) instead. To get a de-fragmented frame, use `newframe = frame.copy()`\n",
      "  df[new_feature] = (df[feature] == value).astype(int)       # 1(True) или 0(False) в зависимости от того, равно ли значение в ячейке текущему уникальному значению параметра\n",
      "C:\\Users\\Dmitrii\\AppData\\Local\\Temp\\ipykernel_13600\\3350976463.py:16: PerformanceWarning: DataFrame is highly fragmented.  This is usually the result of calling `frame.insert` many times, which has poor performance.  Consider joining all columns at once using pd.concat(axis=1) instead. To get a de-fragmented frame, use `newframe = frame.copy()`\n",
      "  df[new_feature] = (df[feature] == value).astype(int)       # 1(True) или 0(False) в зависимости от того, равно ли значение в ячейке текущему уникальному значению параметра\n",
      "C:\\Users\\Dmitrii\\AppData\\Local\\Temp\\ipykernel_13600\\3350976463.py:16: PerformanceWarning: DataFrame is highly fragmented.  This is usually the result of calling `frame.insert` many times, which has poor performance.  Consider joining all columns at once using pd.concat(axis=1) instead. To get a de-fragmented frame, use `newframe = frame.copy()`\n",
      "  df[new_feature] = (df[feature] == value).astype(int)       # 1(True) или 0(False) в зависимости от того, равно ли значение в ячейке текущему уникальному значению параметра\n",
      "C:\\Users\\Dmitrii\\AppData\\Local\\Temp\\ipykernel_13600\\3350976463.py:16: PerformanceWarning: DataFrame is highly fragmented.  This is usually the result of calling `frame.insert` many times, which has poor performance.  Consider joining all columns at once using pd.concat(axis=1) instead. To get a de-fragmented frame, use `newframe = frame.copy()`\n",
      "  df[new_feature] = (df[feature] == value).astype(int)       # 1(True) или 0(False) в зависимости от того, равно ли значение в ячейке текущему уникальному значению параметра\n",
      "C:\\Users\\Dmitrii\\AppData\\Local\\Temp\\ipykernel_13600\\3350976463.py:16: PerformanceWarning: DataFrame is highly fragmented.  This is usually the result of calling `frame.insert` many times, which has poor performance.  Consider joining all columns at once using pd.concat(axis=1) instead. To get a de-fragmented frame, use `newframe = frame.copy()`\n",
      "  df[new_feature] = (df[feature] == value).astype(int)       # 1(True) или 0(False) в зависимости от того, равно ли значение в ячейке текущему уникальному значению параметра\n",
      "C:\\Users\\Dmitrii\\AppData\\Local\\Temp\\ipykernel_13600\\3350976463.py:16: PerformanceWarning: DataFrame is highly fragmented.  This is usually the result of calling `frame.insert` many times, which has poor performance.  Consider joining all columns at once using pd.concat(axis=1) instead. To get a de-fragmented frame, use `newframe = frame.copy()`\n",
      "  df[new_feature] = (df[feature] == value).astype(int)       # 1(True) или 0(False) в зависимости от того, равно ли значение в ячейке текущему уникальному значению параметра\n",
      "C:\\Users\\Dmitrii\\AppData\\Local\\Temp\\ipykernel_13600\\3350976463.py:16: PerformanceWarning: DataFrame is highly fragmented.  This is usually the result of calling `frame.insert` many times, which has poor performance.  Consider joining all columns at once using pd.concat(axis=1) instead. To get a de-fragmented frame, use `newframe = frame.copy()`\n",
      "  df[new_feature] = (df[feature] == value).astype(int)       # 1(True) или 0(False) в зависимости от того, равно ли значение в ячейке текущему уникальному значению параметра\n",
      "C:\\Users\\Dmitrii\\AppData\\Local\\Temp\\ipykernel_13600\\3350976463.py:16: PerformanceWarning: DataFrame is highly fragmented.  This is usually the result of calling `frame.insert` many times, which has poor performance.  Consider joining all columns at once using pd.concat(axis=1) instead. To get a de-fragmented frame, use `newframe = frame.copy()`\n",
      "  df[new_feature] = (df[feature] == value).astype(int)       # 1(True) или 0(False) в зависимости от того, равно ли значение в ячейке текущему уникальному значению параметра\n",
      "C:\\Users\\Dmitrii\\AppData\\Local\\Temp\\ipykernel_13600\\3350976463.py:16: PerformanceWarning: DataFrame is highly fragmented.  This is usually the result of calling `frame.insert` many times, which has poor performance.  Consider joining all columns at once using pd.concat(axis=1) instead. To get a de-fragmented frame, use `newframe = frame.copy()`\n",
      "  df[new_feature] = (df[feature] == value).astype(int)       # 1(True) или 0(False) в зависимости от того, равно ли значение в ячейке текущему уникальному значению параметра\n",
      "C:\\Users\\Dmitrii\\AppData\\Local\\Temp\\ipykernel_13600\\3350976463.py:16: PerformanceWarning: DataFrame is highly fragmented.  This is usually the result of calling `frame.insert` many times, which has poor performance.  Consider joining all columns at once using pd.concat(axis=1) instead. To get a de-fragmented frame, use `newframe = frame.copy()`\n",
      "  df[new_feature] = (df[feature] == value).astype(int)       # 1(True) или 0(False) в зависимости от того, равно ли значение в ячейке текущему уникальному значению параметра\n",
      "C:\\Users\\Dmitrii\\AppData\\Local\\Temp\\ipykernel_13600\\3350976463.py:16: PerformanceWarning: DataFrame is highly fragmented.  This is usually the result of calling `frame.insert` many times, which has poor performance.  Consider joining all columns at once using pd.concat(axis=1) instead. To get a de-fragmented frame, use `newframe = frame.copy()`\n",
      "  df[new_feature] = (df[feature] == value).astype(int)       # 1(True) или 0(False) в зависимости от того, равно ли значение в ячейке текущему уникальному значению параметра\n",
      "C:\\Users\\Dmitrii\\AppData\\Local\\Temp\\ipykernel_13600\\3350976463.py:16: PerformanceWarning: DataFrame is highly fragmented.  This is usually the result of calling `frame.insert` many times, which has poor performance.  Consider joining all columns at once using pd.concat(axis=1) instead. To get a de-fragmented frame, use `newframe = frame.copy()`\n",
      "  df[new_feature] = (df[feature] == value).astype(int)       # 1(True) или 0(False) в зависимости от того, равно ли значение в ячейке текущему уникальному значению параметра\n",
      "C:\\Users\\Dmitrii\\AppData\\Local\\Temp\\ipykernel_13600\\3350976463.py:16: PerformanceWarning: DataFrame is highly fragmented.  This is usually the result of calling `frame.insert` many times, which has poor performance.  Consider joining all columns at once using pd.concat(axis=1) instead. To get a de-fragmented frame, use `newframe = frame.copy()`\n",
      "  df[new_feature] = (df[feature] == value).astype(int)       # 1(True) или 0(False) в зависимости от того, равно ли значение в ячейке текущему уникальному значению параметра\n",
      "C:\\Users\\Dmitrii\\AppData\\Local\\Temp\\ipykernel_13600\\3350976463.py:16: PerformanceWarning: DataFrame is highly fragmented.  This is usually the result of calling `frame.insert` many times, which has poor performance.  Consider joining all columns at once using pd.concat(axis=1) instead. To get a de-fragmented frame, use `newframe = frame.copy()`\n",
      "  df[new_feature] = (df[feature] == value).astype(int)       # 1(True) или 0(False) в зависимости от того, равно ли значение в ячейке текущему уникальному значению параметра\n",
      "C:\\Users\\Dmitrii\\AppData\\Local\\Temp\\ipykernel_13600\\3350976463.py:16: PerformanceWarning: DataFrame is highly fragmented.  This is usually the result of calling `frame.insert` many times, which has poor performance.  Consider joining all columns at once using pd.concat(axis=1) instead. To get a de-fragmented frame, use `newframe = frame.copy()`\n",
      "  df[new_feature] = (df[feature] == value).astype(int)       # 1(True) или 0(False) в зависимости от того, равно ли значение в ячейке текущему уникальному значению параметра\n",
      "C:\\Users\\Dmitrii\\AppData\\Local\\Temp\\ipykernel_13600\\3350976463.py:16: PerformanceWarning: DataFrame is highly fragmented.  This is usually the result of calling `frame.insert` many times, which has poor performance.  Consider joining all columns at once using pd.concat(axis=1) instead. To get a de-fragmented frame, use `newframe = frame.copy()`\n",
      "  df[new_feature] = (df[feature] == value).astype(int)       # 1(True) или 0(False) в зависимости от того, равно ли значение в ячейке текущему уникальному значению параметра\n",
      "C:\\Users\\Dmitrii\\AppData\\Local\\Temp\\ipykernel_13600\\3350976463.py:16: PerformanceWarning: DataFrame is highly fragmented.  This is usually the result of calling `frame.insert` many times, which has poor performance.  Consider joining all columns at once using pd.concat(axis=1) instead. To get a de-fragmented frame, use `newframe = frame.copy()`\n",
      "  df[new_feature] = (df[feature] == value).astype(int)       # 1(True) или 0(False) в зависимости от того, равно ли значение в ячейке текущему уникальному значению параметра\n",
      "C:\\Users\\Dmitrii\\AppData\\Local\\Temp\\ipykernel_13600\\3350976463.py:16: PerformanceWarning: DataFrame is highly fragmented.  This is usually the result of calling `frame.insert` many times, which has poor performance.  Consider joining all columns at once using pd.concat(axis=1) instead. To get a de-fragmented frame, use `newframe = frame.copy()`\n",
      "  df[new_feature] = (df[feature] == value).astype(int)       # 1(True) или 0(False) в зависимости от того, равно ли значение в ячейке текущему уникальному значению параметра\n",
      "C:\\Users\\Dmitrii\\AppData\\Local\\Temp\\ipykernel_13600\\3350976463.py:16: PerformanceWarning: DataFrame is highly fragmented.  This is usually the result of calling `frame.insert` many times, which has poor performance.  Consider joining all columns at once using pd.concat(axis=1) instead. To get a de-fragmented frame, use `newframe = frame.copy()`\n",
      "  df[new_feature] = (df[feature] == value).astype(int)       # 1(True) или 0(False) в зависимости от того, равно ли значение в ячейке текущему уникальному значению параметра\n",
      "C:\\Users\\Dmitrii\\AppData\\Local\\Temp\\ipykernel_13600\\3350976463.py:16: PerformanceWarning: DataFrame is highly fragmented.  This is usually the result of calling `frame.insert` many times, which has poor performance.  Consider joining all columns at once using pd.concat(axis=1) instead. To get a de-fragmented frame, use `newframe = frame.copy()`\n",
      "  df[new_feature] = (df[feature] == value).astype(int)       # 1(True) или 0(False) в зависимости от того, равно ли значение в ячейке текущему уникальному значению параметра\n",
      "C:\\Users\\Dmitrii\\AppData\\Local\\Temp\\ipykernel_13600\\3350976463.py:16: PerformanceWarning: DataFrame is highly fragmented.  This is usually the result of calling `frame.insert` many times, which has poor performance.  Consider joining all columns at once using pd.concat(axis=1) instead. To get a de-fragmented frame, use `newframe = frame.copy()`\n",
      "  df[new_feature] = (df[feature] == value).astype(int)       # 1(True) или 0(False) в зависимости от того, равно ли значение в ячейке текущему уникальному значению параметра\n",
      "C:\\Users\\Dmitrii\\AppData\\Local\\Temp\\ipykernel_13600\\3350976463.py:16: PerformanceWarning: DataFrame is highly fragmented.  This is usually the result of calling `frame.insert` many times, which has poor performance.  Consider joining all columns at once using pd.concat(axis=1) instead. To get a de-fragmented frame, use `newframe = frame.copy()`\n",
      "  df[new_feature] = (df[feature] == value).astype(int)       # 1(True) или 0(False) в зависимости от того, равно ли значение в ячейке текущему уникальному значению параметра\n",
      "C:\\Users\\Dmitrii\\AppData\\Local\\Temp\\ipykernel_13600\\3350976463.py:16: PerformanceWarning: DataFrame is highly fragmented.  This is usually the result of calling `frame.insert` many times, which has poor performance.  Consider joining all columns at once using pd.concat(axis=1) instead. To get a de-fragmented frame, use `newframe = frame.copy()`\n",
      "  df[new_feature] = (df[feature] == value).astype(int)       # 1(True) или 0(False) в зависимости от того, равно ли значение в ячейке текущему уникальному значению параметра\n",
      "C:\\Users\\Dmitrii\\AppData\\Local\\Temp\\ipykernel_13600\\3350976463.py:16: PerformanceWarning: DataFrame is highly fragmented.  This is usually the result of calling `frame.insert` many times, which has poor performance.  Consider joining all columns at once using pd.concat(axis=1) instead. To get a de-fragmented frame, use `newframe = frame.copy()`\n",
      "  df[new_feature] = (df[feature] == value).astype(int)       # 1(True) или 0(False) в зависимости от того, равно ли значение в ячейке текущему уникальному значению параметра\n",
      "C:\\Users\\Dmitrii\\AppData\\Local\\Temp\\ipykernel_13600\\3350976463.py:16: PerformanceWarning: DataFrame is highly fragmented.  This is usually the result of calling `frame.insert` many times, which has poor performance.  Consider joining all columns at once using pd.concat(axis=1) instead. To get a de-fragmented frame, use `newframe = frame.copy()`\n",
      "  df[new_feature] = (df[feature] == value).astype(int)       # 1(True) или 0(False) в зависимости от того, равно ли значение в ячейке текущему уникальному значению параметра\n",
      "C:\\Users\\Dmitrii\\AppData\\Local\\Temp\\ipykernel_13600\\3350976463.py:16: PerformanceWarning: DataFrame is highly fragmented.  This is usually the result of calling `frame.insert` many times, which has poor performance.  Consider joining all columns at once using pd.concat(axis=1) instead. To get a de-fragmented frame, use `newframe = frame.copy()`\n",
      "  df[new_feature] = (df[feature] == value).astype(int)       # 1(True) или 0(False) в зависимости от того, равно ли значение в ячейке текущему уникальному значению параметра\n",
      "C:\\Users\\Dmitrii\\AppData\\Local\\Temp\\ipykernel_13600\\3350976463.py:16: PerformanceWarning: DataFrame is highly fragmented.  This is usually the result of calling `frame.insert` many times, which has poor performance.  Consider joining all columns at once using pd.concat(axis=1) instead. To get a de-fragmented frame, use `newframe = frame.copy()`\n",
      "  df[new_feature] = (df[feature] == value).astype(int)       # 1(True) или 0(False) в зависимости от того, равно ли значение в ячейке текущему уникальному значению параметра\n",
      "C:\\Users\\Dmitrii\\AppData\\Local\\Temp\\ipykernel_13600\\3350976463.py:16: PerformanceWarning: DataFrame is highly fragmented.  This is usually the result of calling `frame.insert` many times, which has poor performance.  Consider joining all columns at once using pd.concat(axis=1) instead. To get a de-fragmented frame, use `newframe = frame.copy()`\n",
      "  df[new_feature] = (df[feature] == value).astype(int)       # 1(True) или 0(False) в зависимости от того, равно ли значение в ячейке текущему уникальному значению параметра\n",
      "C:\\Users\\Dmitrii\\AppData\\Local\\Temp\\ipykernel_13600\\3350976463.py:16: PerformanceWarning: DataFrame is highly fragmented.  This is usually the result of calling `frame.insert` many times, which has poor performance.  Consider joining all columns at once using pd.concat(axis=1) instead. To get a de-fragmented frame, use `newframe = frame.copy()`\n",
      "  df[new_feature] = (df[feature] == value).astype(int)       # 1(True) или 0(False) в зависимости от того, равно ли значение в ячейке текущему уникальному значению параметра\n",
      "C:\\Users\\Dmitrii\\AppData\\Local\\Temp\\ipykernel_13600\\3350976463.py:16: PerformanceWarning: DataFrame is highly fragmented.  This is usually the result of calling `frame.insert` many times, which has poor performance.  Consider joining all columns at once using pd.concat(axis=1) instead. To get a de-fragmented frame, use `newframe = frame.copy()`\n",
      "  df[new_feature] = (df[feature] == value).astype(int)       # 1(True) или 0(False) в зависимости от того, равно ли значение в ячейке текущему уникальному значению параметра\n",
      "C:\\Users\\Dmitrii\\AppData\\Local\\Temp\\ipykernel_13600\\3350976463.py:16: PerformanceWarning: DataFrame is highly fragmented.  This is usually the result of calling `frame.insert` many times, which has poor performance.  Consider joining all columns at once using pd.concat(axis=1) instead. To get a de-fragmented frame, use `newframe = frame.copy()`\n",
      "  df[new_feature] = (df[feature] == value).astype(int)       # 1(True) или 0(False) в зависимости от того, равно ли значение в ячейке текущему уникальному значению параметра\n",
      "C:\\Users\\Dmitrii\\AppData\\Local\\Temp\\ipykernel_13600\\3350976463.py:16: PerformanceWarning: DataFrame is highly fragmented.  This is usually the result of calling `frame.insert` many times, which has poor performance.  Consider joining all columns at once using pd.concat(axis=1) instead. To get a de-fragmented frame, use `newframe = frame.copy()`\n",
      "  df[new_feature] = (df[feature] == value).astype(int)       # 1(True) или 0(False) в зависимости от того, равно ли значение в ячейке текущему уникальному значению параметра\n",
      "C:\\Users\\Dmitrii\\AppData\\Local\\Temp\\ipykernel_13600\\3350976463.py:16: PerformanceWarning: DataFrame is highly fragmented.  This is usually the result of calling `frame.insert` many times, which has poor performance.  Consider joining all columns at once using pd.concat(axis=1) instead. To get a de-fragmented frame, use `newframe = frame.copy()`\n",
      "  df[new_feature] = (df[feature] == value).astype(int)       # 1(True) или 0(False) в зависимости от того, равно ли значение в ячейке текущему уникальному значению параметра\n",
      "C:\\Users\\Dmitrii\\AppData\\Local\\Temp\\ipykernel_13600\\3350976463.py:16: PerformanceWarning: DataFrame is highly fragmented.  This is usually the result of calling `frame.insert` many times, which has poor performance.  Consider joining all columns at once using pd.concat(axis=1) instead. To get a de-fragmented frame, use `newframe = frame.copy()`\n",
      "  df[new_feature] = (df[feature] == value).astype(int)       # 1(True) или 0(False) в зависимости от того, равно ли значение в ячейке текущему уникальному значению параметра\n",
      "C:\\Users\\Dmitrii\\AppData\\Local\\Temp\\ipykernel_13600\\3350976463.py:16: PerformanceWarning: DataFrame is highly fragmented.  This is usually the result of calling `frame.insert` many times, which has poor performance.  Consider joining all columns at once using pd.concat(axis=1) instead. To get a de-fragmented frame, use `newframe = frame.copy()`\n",
      "  df[new_feature] = (df[feature] == value).astype(int)       # 1(True) или 0(False) в зависимости от того, равно ли значение в ячейке текущему уникальному значению параметра\n",
      "C:\\Users\\Dmitrii\\AppData\\Local\\Temp\\ipykernel_13600\\3350976463.py:16: PerformanceWarning: DataFrame is highly fragmented.  This is usually the result of calling `frame.insert` many times, which has poor performance.  Consider joining all columns at once using pd.concat(axis=1) instead. To get a de-fragmented frame, use `newframe = frame.copy()`\n",
      "  df[new_feature] = (df[feature] == value).astype(int)       # 1(True) или 0(False) в зависимости от того, равно ли значение в ячейке текущему уникальному значению параметра\n",
      "C:\\Users\\Dmitrii\\AppData\\Local\\Temp\\ipykernel_13600\\3350976463.py:16: PerformanceWarning: DataFrame is highly fragmented.  This is usually the result of calling `frame.insert` many times, which has poor performance.  Consider joining all columns at once using pd.concat(axis=1) instead. To get a de-fragmented frame, use `newframe = frame.copy()`\n",
      "  df[new_feature] = (df[feature] == value).astype(int)       # 1(True) или 0(False) в зависимости от того, равно ли значение в ячейке текущему уникальному значению параметра\n",
      "C:\\Users\\Dmitrii\\AppData\\Local\\Temp\\ipykernel_13600\\3350976463.py:16: PerformanceWarning: DataFrame is highly fragmented.  This is usually the result of calling `frame.insert` many times, which has poor performance.  Consider joining all columns at once using pd.concat(axis=1) instead. To get a de-fragmented frame, use `newframe = frame.copy()`\n",
      "  df[new_feature] = (df[feature] == value).astype(int)       # 1(True) или 0(False) в зависимости от того, равно ли значение в ячейке текущему уникальному значению параметра\n",
      "C:\\Users\\Dmitrii\\AppData\\Local\\Temp\\ipykernel_13600\\3350976463.py:16: PerformanceWarning: DataFrame is highly fragmented.  This is usually the result of calling `frame.insert` many times, which has poor performance.  Consider joining all columns at once using pd.concat(axis=1) instead. To get a de-fragmented frame, use `newframe = frame.copy()`\n",
      "  df[new_feature] = (df[feature] == value).astype(int)       # 1(True) или 0(False) в зависимости от того, равно ли значение в ячейке текущему уникальному значению параметра\n",
      "C:\\Users\\Dmitrii\\AppData\\Local\\Temp\\ipykernel_13600\\3350976463.py:16: PerformanceWarning: DataFrame is highly fragmented.  This is usually the result of calling `frame.insert` many times, which has poor performance.  Consider joining all columns at once using pd.concat(axis=1) instead. To get a de-fragmented frame, use `newframe = frame.copy()`\n",
      "  df[new_feature] = (df[feature] == value).astype(int)       # 1(True) или 0(False) в зависимости от того, равно ли значение в ячейке текущему уникальному значению параметра\n",
      "C:\\Users\\Dmitrii\\AppData\\Local\\Temp\\ipykernel_13600\\3350976463.py:16: PerformanceWarning: DataFrame is highly fragmented.  This is usually the result of calling `frame.insert` many times, which has poor performance.  Consider joining all columns at once using pd.concat(axis=1) instead. To get a de-fragmented frame, use `newframe = frame.copy()`\n",
      "  df[new_feature] = (df[feature] == value).astype(int)       # 1(True) или 0(False) в зависимости от того, равно ли значение в ячейке текущему уникальному значению параметра\n",
      "C:\\Users\\Dmitrii\\AppData\\Local\\Temp\\ipykernel_13600\\3350976463.py:16: PerformanceWarning: DataFrame is highly fragmented.  This is usually the result of calling `frame.insert` many times, which has poor performance.  Consider joining all columns at once using pd.concat(axis=1) instead. To get a de-fragmented frame, use `newframe = frame.copy()`\n",
      "  df[new_feature] = (df[feature] == value).astype(int)       # 1(True) или 0(False) в зависимости от того, равно ли значение в ячейке текущему уникальному значению параметра\n",
      "C:\\Users\\Dmitrii\\AppData\\Local\\Temp\\ipykernel_13600\\3350976463.py:16: PerformanceWarning: DataFrame is highly fragmented.  This is usually the result of calling `frame.insert` many times, which has poor performance.  Consider joining all columns at once using pd.concat(axis=1) instead. To get a de-fragmented frame, use `newframe = frame.copy()`\n",
      "  df[new_feature] = (df[feature] == value).astype(int)       # 1(True) или 0(False) в зависимости от того, равно ли значение в ячейке текущему уникальному значению параметра\n",
      "C:\\Users\\Dmitrii\\AppData\\Local\\Temp\\ipykernel_13600\\3350976463.py:16: PerformanceWarning: DataFrame is highly fragmented.  This is usually the result of calling `frame.insert` many times, which has poor performance.  Consider joining all columns at once using pd.concat(axis=1) instead. To get a de-fragmented frame, use `newframe = frame.copy()`\n",
      "  df[new_feature] = (df[feature] == value).astype(int)       # 1(True) или 0(False) в зависимости от того, равно ли значение в ячейке текущему уникальному значению параметра\n",
      "C:\\Users\\Dmitrii\\AppData\\Local\\Temp\\ipykernel_13600\\3350976463.py:16: PerformanceWarning: DataFrame is highly fragmented.  This is usually the result of calling `frame.insert` many times, which has poor performance.  Consider joining all columns at once using pd.concat(axis=1) instead. To get a de-fragmented frame, use `newframe = frame.copy()`\n",
      "  df[new_feature] = (df[feature] == value).astype(int)       # 1(True) или 0(False) в зависимости от того, равно ли значение в ячейке текущему уникальному значению параметра\n",
      "C:\\Users\\Dmitrii\\AppData\\Local\\Temp\\ipykernel_13600\\3350976463.py:16: PerformanceWarning: DataFrame is highly fragmented.  This is usually the result of calling `frame.insert` many times, which has poor performance.  Consider joining all columns at once using pd.concat(axis=1) instead. To get a de-fragmented frame, use `newframe = frame.copy()`\n",
      "  df[new_feature] = (df[feature] == value).astype(int)       # 1(True) или 0(False) в зависимости от того, равно ли значение в ячейке текущему уникальному значению параметра\n",
      "C:\\Users\\Dmitrii\\AppData\\Local\\Temp\\ipykernel_13600\\3350976463.py:16: PerformanceWarning: DataFrame is highly fragmented.  This is usually the result of calling `frame.insert` many times, which has poor performance.  Consider joining all columns at once using pd.concat(axis=1) instead. To get a de-fragmented frame, use `newframe = frame.copy()`\n",
      "  df[new_feature] = (df[feature] == value).astype(int)       # 1(True) или 0(False) в зависимости от того, равно ли значение в ячейке текущему уникальному значению параметра\n",
      "C:\\Users\\Dmitrii\\AppData\\Local\\Temp\\ipykernel_13600\\3350976463.py:16: PerformanceWarning: DataFrame is highly fragmented.  This is usually the result of calling `frame.insert` many times, which has poor performance.  Consider joining all columns at once using pd.concat(axis=1) instead. To get a de-fragmented frame, use `newframe = frame.copy()`\n",
      "  df[new_feature] = (df[feature] == value).astype(int)       # 1(True) или 0(False) в зависимости от того, равно ли значение в ячейке текущему уникальному значению параметра\n",
      "C:\\Users\\Dmitrii\\AppData\\Local\\Temp\\ipykernel_13600\\3350976463.py:16: PerformanceWarning: DataFrame is highly fragmented.  This is usually the result of calling `frame.insert` many times, which has poor performance.  Consider joining all columns at once using pd.concat(axis=1) instead. To get a de-fragmented frame, use `newframe = frame.copy()`\n",
      "  df[new_feature] = (df[feature] == value).astype(int)       # 1(True) или 0(False) в зависимости от того, равно ли значение в ячейке текущему уникальному значению параметра\n",
      "C:\\Users\\Dmitrii\\AppData\\Local\\Temp\\ipykernel_13600\\3350976463.py:16: PerformanceWarning: DataFrame is highly fragmented.  This is usually the result of calling `frame.insert` many times, which has poor performance.  Consider joining all columns at once using pd.concat(axis=1) instead. To get a de-fragmented frame, use `newframe = frame.copy()`\n",
      "  df[new_feature] = (df[feature] == value).astype(int)       # 1(True) или 0(False) в зависимости от того, равно ли значение в ячейке текущему уникальному значению параметра\n",
      "C:\\Users\\Dmitrii\\AppData\\Local\\Temp\\ipykernel_13600\\3350976463.py:16: PerformanceWarning: DataFrame is highly fragmented.  This is usually the result of calling `frame.insert` many times, which has poor performance.  Consider joining all columns at once using pd.concat(axis=1) instead. To get a de-fragmented frame, use `newframe = frame.copy()`\n",
      "  df[new_feature] = (df[feature] == value).astype(int)       # 1(True) или 0(False) в зависимости от того, равно ли значение в ячейке текущему уникальному значению параметра\n",
      "C:\\Users\\Dmitrii\\AppData\\Local\\Temp\\ipykernel_13600\\3350976463.py:16: PerformanceWarning: DataFrame is highly fragmented.  This is usually the result of calling `frame.insert` many times, which has poor performance.  Consider joining all columns at once using pd.concat(axis=1) instead. To get a de-fragmented frame, use `newframe = frame.copy()`\n",
      "  df[new_feature] = (df[feature] == value).astype(int)       # 1(True) или 0(False) в зависимости от того, равно ли значение в ячейке текущему уникальному значению параметра\n",
      "C:\\Users\\Dmitrii\\AppData\\Local\\Temp\\ipykernel_13600\\3350976463.py:16: PerformanceWarning: DataFrame is highly fragmented.  This is usually the result of calling `frame.insert` many times, which has poor performance.  Consider joining all columns at once using pd.concat(axis=1) instead. To get a de-fragmented frame, use `newframe = frame.copy()`\n",
      "  df[new_feature] = (df[feature] == value).astype(int)       # 1(True) или 0(False) в зависимости от того, равно ли значение в ячейке текущему уникальному значению параметра\n",
      "C:\\Users\\Dmitrii\\AppData\\Local\\Temp\\ipykernel_13600\\3350976463.py:16: PerformanceWarning: DataFrame is highly fragmented.  This is usually the result of calling `frame.insert` many times, which has poor performance.  Consider joining all columns at once using pd.concat(axis=1) instead. To get a de-fragmented frame, use `newframe = frame.copy()`\n",
      "  df[new_feature] = (df[feature] == value).astype(int)       # 1(True) или 0(False) в зависимости от того, равно ли значение в ячейке текущему уникальному значению параметра\n",
      "C:\\Users\\Dmitrii\\AppData\\Local\\Temp\\ipykernel_13600\\3350976463.py:16: PerformanceWarning: DataFrame is highly fragmented.  This is usually the result of calling `frame.insert` many times, which has poor performance.  Consider joining all columns at once using pd.concat(axis=1) instead. To get a de-fragmented frame, use `newframe = frame.copy()`\n",
      "  df[new_feature] = (df[feature] == value).astype(int)       # 1(True) или 0(False) в зависимости от того, равно ли значение в ячейке текущему уникальному значению параметра\n",
      "C:\\Users\\Dmitrii\\AppData\\Local\\Temp\\ipykernel_13600\\3350976463.py:16: PerformanceWarning: DataFrame is highly fragmented.  This is usually the result of calling `frame.insert` many times, which has poor performance.  Consider joining all columns at once using pd.concat(axis=1) instead. To get a de-fragmented frame, use `newframe = frame.copy()`\n",
      "  df[new_feature] = (df[feature] == value).astype(int)       # 1(True) или 0(False) в зависимости от того, равно ли значение в ячейке текущему уникальному значению параметра\n",
      "C:\\Users\\Dmitrii\\AppData\\Local\\Temp\\ipykernel_13600\\3350976463.py:16: PerformanceWarning: DataFrame is highly fragmented.  This is usually the result of calling `frame.insert` many times, which has poor performance.  Consider joining all columns at once using pd.concat(axis=1) instead. To get a de-fragmented frame, use `newframe = frame.copy()`\n",
      "  df[new_feature] = (df[feature] == value).astype(int)       # 1(True) или 0(False) в зависимости от того, равно ли значение в ячейке текущему уникальному значению параметра\n",
      "C:\\Users\\Dmitrii\\AppData\\Local\\Temp\\ipykernel_13600\\3350976463.py:16: PerformanceWarning: DataFrame is highly fragmented.  This is usually the result of calling `frame.insert` many times, which has poor performance.  Consider joining all columns at once using pd.concat(axis=1) instead. To get a de-fragmented frame, use `newframe = frame.copy()`\n",
      "  df[new_feature] = (df[feature] == value).astype(int)       # 1(True) или 0(False) в зависимости от того, равно ли значение в ячейке текущему уникальному значению параметра\n",
      "C:\\Users\\Dmitrii\\AppData\\Local\\Temp\\ipykernel_13600\\3350976463.py:16: PerformanceWarning: DataFrame is highly fragmented.  This is usually the result of calling `frame.insert` many times, which has poor performance.  Consider joining all columns at once using pd.concat(axis=1) instead. To get a de-fragmented frame, use `newframe = frame.copy()`\n",
      "  df[new_feature] = (df[feature] == value).astype(int)       # 1(True) или 0(False) в зависимости от того, равно ли значение в ячейке текущему уникальному значению параметра\n",
      "C:\\Users\\Dmitrii\\AppData\\Local\\Temp\\ipykernel_13600\\3350976463.py:16: PerformanceWarning: DataFrame is highly fragmented.  This is usually the result of calling `frame.insert` many times, which has poor performance.  Consider joining all columns at once using pd.concat(axis=1) instead. To get a de-fragmented frame, use `newframe = frame.copy()`\n",
      "  df[new_feature] = (df[feature] == value).astype(int)       # 1(True) или 0(False) в зависимости от того, равно ли значение в ячейке текущему уникальному значению параметра\n",
      "C:\\Users\\Dmitrii\\AppData\\Local\\Temp\\ipykernel_13600\\3350976463.py:16: PerformanceWarning: DataFrame is highly fragmented.  This is usually the result of calling `frame.insert` many times, which has poor performance.  Consider joining all columns at once using pd.concat(axis=1) instead. To get a de-fragmented frame, use `newframe = frame.copy()`\n",
      "  df[new_feature] = (df[feature] == value).astype(int)       # 1(True) или 0(False) в зависимости от того, равно ли значение в ячейке текущему уникальному значению параметра\n",
      "C:\\Users\\Dmitrii\\AppData\\Local\\Temp\\ipykernel_13600\\3350976463.py:16: PerformanceWarning: DataFrame is highly fragmented.  This is usually the result of calling `frame.insert` many times, which has poor performance.  Consider joining all columns at once using pd.concat(axis=1) instead. To get a de-fragmented frame, use `newframe = frame.copy()`\n",
      "  df[new_feature] = (df[feature] == value).astype(int)       # 1(True) или 0(False) в зависимости от того, равно ли значение в ячейке текущему уникальному значению параметра\n",
      "C:\\Users\\Dmitrii\\AppData\\Local\\Temp\\ipykernel_13600\\3350976463.py:16: PerformanceWarning: DataFrame is highly fragmented.  This is usually the result of calling `frame.insert` many times, which has poor performance.  Consider joining all columns at once using pd.concat(axis=1) instead. To get a de-fragmented frame, use `newframe = frame.copy()`\n",
      "  df[new_feature] = (df[feature] == value).astype(int)       # 1(True) или 0(False) в зависимости от того, равно ли значение в ячейке текущему уникальному значению параметра\n",
      "C:\\Users\\Dmitrii\\AppData\\Local\\Temp\\ipykernel_13600\\3350976463.py:16: PerformanceWarning: DataFrame is highly fragmented.  This is usually the result of calling `frame.insert` many times, which has poor performance.  Consider joining all columns at once using pd.concat(axis=1) instead. To get a de-fragmented frame, use `newframe = frame.copy()`\n",
      "  df[new_feature] = (df[feature] == value).astype(int)       # 1(True) или 0(False) в зависимости от того, равно ли значение в ячейке текущему уникальному значению параметра\n",
      "C:\\Users\\Dmitrii\\AppData\\Local\\Temp\\ipykernel_13600\\3350976463.py:16: PerformanceWarning: DataFrame is highly fragmented.  This is usually the result of calling `frame.insert` many times, which has poor performance.  Consider joining all columns at once using pd.concat(axis=1) instead. To get a de-fragmented frame, use `newframe = frame.copy()`\n",
      "  df[new_feature] = (df[feature] == value).astype(int)       # 1(True) или 0(False) в зависимости от того, равно ли значение в ячейке текущему уникальному значению параметра\n",
      "C:\\Users\\Dmitrii\\AppData\\Local\\Temp\\ipykernel_13600\\3350976463.py:16: PerformanceWarning: DataFrame is highly fragmented.  This is usually the result of calling `frame.insert` many times, which has poor performance.  Consider joining all columns at once using pd.concat(axis=1) instead. To get a de-fragmented frame, use `newframe = frame.copy()`\n",
      "  df[new_feature] = (df[feature] == value).astype(int)       # 1(True) или 0(False) в зависимости от того, равно ли значение в ячейке текущему уникальному значению параметра\n",
      "C:\\Users\\Dmitrii\\AppData\\Local\\Temp\\ipykernel_13600\\3350976463.py:16: PerformanceWarning: DataFrame is highly fragmented.  This is usually the result of calling `frame.insert` many times, which has poor performance.  Consider joining all columns at once using pd.concat(axis=1) instead. To get a de-fragmented frame, use `newframe = frame.copy()`\n",
      "  df[new_feature] = (df[feature] == value).astype(int)       # 1(True) или 0(False) в зависимости от того, равно ли значение в ячейке текущему уникальному значению параметра\n"
     ]
    },
    {
     "name": "stderr",
     "output_type": "stream",
     "text": [
      "C:\\Users\\Dmitrii\\AppData\\Local\\Temp\\ipykernel_13600\\3350976463.py:16: PerformanceWarning: DataFrame is highly fragmented.  This is usually the result of calling `frame.insert` many times, which has poor performance.  Consider joining all columns at once using pd.concat(axis=1) instead. To get a de-fragmented frame, use `newframe = frame.copy()`\n",
      "  df[new_feature] = (df[feature] == value).astype(int)       # 1(True) или 0(False) в зависимости от того, равно ли значение в ячейке текущему уникальному значению параметра\n",
      "C:\\Users\\Dmitrii\\AppData\\Local\\Temp\\ipykernel_13600\\3350976463.py:16: PerformanceWarning: DataFrame is highly fragmented.  This is usually the result of calling `frame.insert` many times, which has poor performance.  Consider joining all columns at once using pd.concat(axis=1) instead. To get a de-fragmented frame, use `newframe = frame.copy()`\n",
      "  df[new_feature] = (df[feature] == value).astype(int)       # 1(True) или 0(False) в зависимости от того, равно ли значение в ячейке текущему уникальному значению параметра\n",
      "C:\\Users\\Dmitrii\\AppData\\Local\\Temp\\ipykernel_13600\\3350976463.py:16: PerformanceWarning: DataFrame is highly fragmented.  This is usually the result of calling `frame.insert` many times, which has poor performance.  Consider joining all columns at once using pd.concat(axis=1) instead. To get a de-fragmented frame, use `newframe = frame.copy()`\n",
      "  df[new_feature] = (df[feature] == value).astype(int)       # 1(True) или 0(False) в зависимости от того, равно ли значение в ячейке текущему уникальному значению параметра\n",
      "C:\\Users\\Dmitrii\\AppData\\Local\\Temp\\ipykernel_13600\\3350976463.py:16: PerformanceWarning: DataFrame is highly fragmented.  This is usually the result of calling `frame.insert` many times, which has poor performance.  Consider joining all columns at once using pd.concat(axis=1) instead. To get a de-fragmented frame, use `newframe = frame.copy()`\n",
      "  df[new_feature] = (df[feature] == value).astype(int)       # 1(True) или 0(False) в зависимости от того, равно ли значение в ячейке текущему уникальному значению параметра\n",
      "C:\\Users\\Dmitrii\\AppData\\Local\\Temp\\ipykernel_13600\\3350976463.py:16: PerformanceWarning: DataFrame is highly fragmented.  This is usually the result of calling `frame.insert` many times, which has poor performance.  Consider joining all columns at once using pd.concat(axis=1) instead. To get a de-fragmented frame, use `newframe = frame.copy()`\n",
      "  df[new_feature] = (df[feature] == value).astype(int)       # 1(True) или 0(False) в зависимости от того, равно ли значение в ячейке текущему уникальному значению параметра\n",
      "C:\\Users\\Dmitrii\\AppData\\Local\\Temp\\ipykernel_13600\\3350976463.py:16: PerformanceWarning: DataFrame is highly fragmented.  This is usually the result of calling `frame.insert` many times, which has poor performance.  Consider joining all columns at once using pd.concat(axis=1) instead. To get a de-fragmented frame, use `newframe = frame.copy()`\n",
      "  df[new_feature] = (df[feature] == value).astype(int)       # 1(True) или 0(False) в зависимости от того, равно ли значение в ячейке текущему уникальному значению параметра\n",
      "C:\\Users\\Dmitrii\\AppData\\Local\\Temp\\ipykernel_13600\\3350976463.py:16: PerformanceWarning: DataFrame is highly fragmented.  This is usually the result of calling `frame.insert` many times, which has poor performance.  Consider joining all columns at once using pd.concat(axis=1) instead. To get a de-fragmented frame, use `newframe = frame.copy()`\n",
      "  df[new_feature] = (df[feature] == value).astype(int)       # 1(True) или 0(False) в зависимости от того, равно ли значение в ячейке текущему уникальному значению параметра\n",
      "C:\\Users\\Dmitrii\\AppData\\Local\\Temp\\ipykernel_13600\\3350976463.py:16: PerformanceWarning: DataFrame is highly fragmented.  This is usually the result of calling `frame.insert` many times, which has poor performance.  Consider joining all columns at once using pd.concat(axis=1) instead. To get a de-fragmented frame, use `newframe = frame.copy()`\n",
      "  df[new_feature] = (df[feature] == value).astype(int)       # 1(True) или 0(False) в зависимости от того, равно ли значение в ячейке текущему уникальному значению параметра\n",
      "C:\\Users\\Dmitrii\\AppData\\Local\\Temp\\ipykernel_13600\\3350976463.py:16: PerformanceWarning: DataFrame is highly fragmented.  This is usually the result of calling `frame.insert` many times, which has poor performance.  Consider joining all columns at once using pd.concat(axis=1) instead. To get a de-fragmented frame, use `newframe = frame.copy()`\n",
      "  df[new_feature] = (df[feature] == value).astype(int)       # 1(True) или 0(False) в зависимости от того, равно ли значение в ячейке текущему уникальному значению параметра\n",
      "C:\\Users\\Dmitrii\\AppData\\Local\\Temp\\ipykernel_13600\\3350976463.py:16: PerformanceWarning: DataFrame is highly fragmented.  This is usually the result of calling `frame.insert` many times, which has poor performance.  Consider joining all columns at once using pd.concat(axis=1) instead. To get a de-fragmented frame, use `newframe = frame.copy()`\n",
      "  df[new_feature] = (df[feature] == value).astype(int)       # 1(True) или 0(False) в зависимости от того, равно ли значение в ячейке текущему уникальному значению параметра\n",
      "C:\\Users\\Dmitrii\\AppData\\Local\\Temp\\ipykernel_13600\\3350976463.py:16: PerformanceWarning: DataFrame is highly fragmented.  This is usually the result of calling `frame.insert` many times, which has poor performance.  Consider joining all columns at once using pd.concat(axis=1) instead. To get a de-fragmented frame, use `newframe = frame.copy()`\n",
      "  df[new_feature] = (df[feature] == value).astype(int)       # 1(True) или 0(False) в зависимости от того, равно ли значение в ячейке текущему уникальному значению параметра\n",
      "C:\\Users\\Dmitrii\\AppData\\Local\\Temp\\ipykernel_13600\\3350976463.py:16: PerformanceWarning: DataFrame is highly fragmented.  This is usually the result of calling `frame.insert` many times, which has poor performance.  Consider joining all columns at once using pd.concat(axis=1) instead. To get a de-fragmented frame, use `newframe = frame.copy()`\n",
      "  df[new_feature] = (df[feature] == value).astype(int)       # 1(True) или 0(False) в зависимости от того, равно ли значение в ячейке текущему уникальному значению параметра\n",
      "C:\\Users\\Dmitrii\\AppData\\Local\\Temp\\ipykernel_13600\\3350976463.py:16: PerformanceWarning: DataFrame is highly fragmented.  This is usually the result of calling `frame.insert` many times, which has poor performance.  Consider joining all columns at once using pd.concat(axis=1) instead. To get a de-fragmented frame, use `newframe = frame.copy()`\n",
      "  df[new_feature] = (df[feature] == value).astype(int)       # 1(True) или 0(False) в зависимости от того, равно ли значение в ячейке текущему уникальному значению параметра\n",
      "C:\\Users\\Dmitrii\\AppData\\Local\\Temp\\ipykernel_13600\\3350976463.py:16: PerformanceWarning: DataFrame is highly fragmented.  This is usually the result of calling `frame.insert` many times, which has poor performance.  Consider joining all columns at once using pd.concat(axis=1) instead. To get a de-fragmented frame, use `newframe = frame.copy()`\n",
      "  df[new_feature] = (df[feature] == value).astype(int)       # 1(True) или 0(False) в зависимости от того, равно ли значение в ячейке текущему уникальному значению параметра\n",
      "C:\\Users\\Dmitrii\\AppData\\Local\\Temp\\ipykernel_13600\\3350976463.py:16: PerformanceWarning: DataFrame is highly fragmented.  This is usually the result of calling `frame.insert` many times, which has poor performance.  Consider joining all columns at once using pd.concat(axis=1) instead. To get a de-fragmented frame, use `newframe = frame.copy()`\n",
      "  df[new_feature] = (df[feature] == value).astype(int)       # 1(True) или 0(False) в зависимости от того, равно ли значение в ячейке текущему уникальному значению параметра\n",
      "C:\\Users\\Dmitrii\\AppData\\Local\\Temp\\ipykernel_13600\\3350976463.py:16: PerformanceWarning: DataFrame is highly fragmented.  This is usually the result of calling `frame.insert` many times, which has poor performance.  Consider joining all columns at once using pd.concat(axis=1) instead. To get a de-fragmented frame, use `newframe = frame.copy()`\n",
      "  df[new_feature] = (df[feature] == value).astype(int)       # 1(True) или 0(False) в зависимости от того, равно ли значение в ячейке текущему уникальному значению параметра\n",
      "C:\\Users\\Dmitrii\\AppData\\Local\\Temp\\ipykernel_13600\\3350976463.py:16: PerformanceWarning: DataFrame is highly fragmented.  This is usually the result of calling `frame.insert` many times, which has poor performance.  Consider joining all columns at once using pd.concat(axis=1) instead. To get a de-fragmented frame, use `newframe = frame.copy()`\n",
      "  df[new_feature] = (df[feature] == value).astype(int)       # 1(True) или 0(False) в зависимости от того, равно ли значение в ячейке текущему уникальному значению параметра\n",
      "C:\\Users\\Dmitrii\\AppData\\Local\\Temp\\ipykernel_13600\\3350976463.py:16: PerformanceWarning: DataFrame is highly fragmented.  This is usually the result of calling `frame.insert` many times, which has poor performance.  Consider joining all columns at once using pd.concat(axis=1) instead. To get a de-fragmented frame, use `newframe = frame.copy()`\n",
      "  df[new_feature] = (df[feature] == value).astype(int)       # 1(True) или 0(False) в зависимости от того, равно ли значение в ячейке текущему уникальному значению параметра\n",
      "C:\\Users\\Dmitrii\\AppData\\Local\\Temp\\ipykernel_13600\\3350976463.py:16: PerformanceWarning: DataFrame is highly fragmented.  This is usually the result of calling `frame.insert` many times, which has poor performance.  Consider joining all columns at once using pd.concat(axis=1) instead. To get a de-fragmented frame, use `newframe = frame.copy()`\n",
      "  df[new_feature] = (df[feature] == value).astype(int)       # 1(True) или 0(False) в зависимости от того, равно ли значение в ячейке текущему уникальному значению параметра\n",
      "C:\\Users\\Dmitrii\\AppData\\Local\\Temp\\ipykernel_13600\\3350976463.py:16: PerformanceWarning: DataFrame is highly fragmented.  This is usually the result of calling `frame.insert` many times, which has poor performance.  Consider joining all columns at once using pd.concat(axis=1) instead. To get a de-fragmented frame, use `newframe = frame.copy()`\n",
      "  df[new_feature] = (df[feature] == value).astype(int)       # 1(True) или 0(False) в зависимости от того, равно ли значение в ячейке текущему уникальному значению параметра\n",
      "C:\\Users\\Dmitrii\\AppData\\Local\\Temp\\ipykernel_13600\\3350976463.py:16: PerformanceWarning: DataFrame is highly fragmented.  This is usually the result of calling `frame.insert` many times, which has poor performance.  Consider joining all columns at once using pd.concat(axis=1) instead. To get a de-fragmented frame, use `newframe = frame.copy()`\n",
      "  df[new_feature] = (df[feature] == value).astype(int)       # 1(True) или 0(False) в зависимости от того, равно ли значение в ячейке текущему уникальному значению параметра\n",
      "C:\\Users\\Dmitrii\\AppData\\Local\\Temp\\ipykernel_13600\\3350976463.py:16: PerformanceWarning: DataFrame is highly fragmented.  This is usually the result of calling `frame.insert` many times, which has poor performance.  Consider joining all columns at once using pd.concat(axis=1) instead. To get a de-fragmented frame, use `newframe = frame.copy()`\n",
      "  df[new_feature] = (df[feature] == value).astype(int)       # 1(True) или 0(False) в зависимости от того, равно ли значение в ячейке текущему уникальному значению параметра\n",
      "C:\\Users\\Dmitrii\\AppData\\Local\\Temp\\ipykernel_13600\\3350976463.py:16: PerformanceWarning: DataFrame is highly fragmented.  This is usually the result of calling `frame.insert` many times, which has poor performance.  Consider joining all columns at once using pd.concat(axis=1) instead. To get a de-fragmented frame, use `newframe = frame.copy()`\n",
      "  df[new_feature] = (df[feature] == value).astype(int)       # 1(True) или 0(False) в зависимости от того, равно ли значение в ячейке текущему уникальному значению параметра\n",
      "C:\\Users\\Dmitrii\\AppData\\Local\\Temp\\ipykernel_13600\\3350976463.py:16: PerformanceWarning: DataFrame is highly fragmented.  This is usually the result of calling `frame.insert` many times, which has poor performance.  Consider joining all columns at once using pd.concat(axis=1) instead. To get a de-fragmented frame, use `newframe = frame.copy()`\n",
      "  df[new_feature] = (df[feature] == value).astype(int)       # 1(True) или 0(False) в зависимости от того, равно ли значение в ячейке текущему уникальному значению параметра\n",
      "C:\\Users\\Dmitrii\\AppData\\Local\\Temp\\ipykernel_13600\\3350976463.py:16: PerformanceWarning: DataFrame is highly fragmented.  This is usually the result of calling `frame.insert` many times, which has poor performance.  Consider joining all columns at once using pd.concat(axis=1) instead. To get a de-fragmented frame, use `newframe = frame.copy()`\n",
      "  df[new_feature] = (df[feature] == value).astype(int)       # 1(True) или 0(False) в зависимости от того, равно ли значение в ячейке текущему уникальному значению параметра\n",
      "C:\\Users\\Dmitrii\\AppData\\Local\\Temp\\ipykernel_13600\\3350976463.py:16: PerformanceWarning: DataFrame is highly fragmented.  This is usually the result of calling `frame.insert` many times, which has poor performance.  Consider joining all columns at once using pd.concat(axis=1) instead. To get a de-fragmented frame, use `newframe = frame.copy()`\n",
      "  df[new_feature] = (df[feature] == value).astype(int)       # 1(True) или 0(False) в зависимости от того, равно ли значение в ячейке текущему уникальному значению параметра\n",
      "C:\\Users\\Dmitrii\\AppData\\Local\\Temp\\ipykernel_13600\\3350976463.py:16: PerformanceWarning: DataFrame is highly fragmented.  This is usually the result of calling `frame.insert` many times, which has poor performance.  Consider joining all columns at once using pd.concat(axis=1) instead. To get a de-fragmented frame, use `newframe = frame.copy()`\n",
      "  df[new_feature] = (df[feature] == value).astype(int)       # 1(True) или 0(False) в зависимости от того, равно ли значение в ячейке текущему уникальному значению параметра\n",
      "C:\\Users\\Dmitrii\\AppData\\Local\\Temp\\ipykernel_13600\\3350976463.py:16: PerformanceWarning: DataFrame is highly fragmented.  This is usually the result of calling `frame.insert` many times, which has poor performance.  Consider joining all columns at once using pd.concat(axis=1) instead. To get a de-fragmented frame, use `newframe = frame.copy()`\n",
      "  df[new_feature] = (df[feature] == value).astype(int)       # 1(True) или 0(False) в зависимости от того, равно ли значение в ячейке текущему уникальному значению параметра\n",
      "C:\\Users\\Dmitrii\\AppData\\Local\\Temp\\ipykernel_13600\\3350976463.py:16: PerformanceWarning: DataFrame is highly fragmented.  This is usually the result of calling `frame.insert` many times, which has poor performance.  Consider joining all columns at once using pd.concat(axis=1) instead. To get a de-fragmented frame, use `newframe = frame.copy()`\n",
      "  df[new_feature] = (df[feature] == value).astype(int)       # 1(True) или 0(False) в зависимости от того, равно ли значение в ячейке текущему уникальному значению параметра\n",
      "C:\\Users\\Dmitrii\\AppData\\Local\\Temp\\ipykernel_13600\\3350976463.py:16: PerformanceWarning: DataFrame is highly fragmented.  This is usually the result of calling `frame.insert` many times, which has poor performance.  Consider joining all columns at once using pd.concat(axis=1) instead. To get a de-fragmented frame, use `newframe = frame.copy()`\n",
      "  df[new_feature] = (df[feature] == value).astype(int)       # 1(True) или 0(False) в зависимости от того, равно ли значение в ячейке текущему уникальному значению параметра\n",
      "C:\\Users\\Dmitrii\\AppData\\Local\\Temp\\ipykernel_13600\\3350976463.py:16: PerformanceWarning: DataFrame is highly fragmented.  This is usually the result of calling `frame.insert` many times, which has poor performance.  Consider joining all columns at once using pd.concat(axis=1) instead. To get a de-fragmented frame, use `newframe = frame.copy()`\n",
      "  df[new_feature] = (df[feature] == value).astype(int)       # 1(True) или 0(False) в зависимости от того, равно ли значение в ячейке текущему уникальному значению параметра\n",
      "C:\\Users\\Dmitrii\\AppData\\Local\\Temp\\ipykernel_13600\\3350976463.py:16: PerformanceWarning: DataFrame is highly fragmented.  This is usually the result of calling `frame.insert` many times, which has poor performance.  Consider joining all columns at once using pd.concat(axis=1) instead. To get a de-fragmented frame, use `newframe = frame.copy()`\n",
      "  df[new_feature] = (df[feature] == value).astype(int)       # 1(True) или 0(False) в зависимости от того, равно ли значение в ячейке текущему уникальному значению параметра\n",
      "C:\\Users\\Dmitrii\\AppData\\Local\\Temp\\ipykernel_13600\\3350976463.py:16: PerformanceWarning: DataFrame is highly fragmented.  This is usually the result of calling `frame.insert` many times, which has poor performance.  Consider joining all columns at once using pd.concat(axis=1) instead. To get a de-fragmented frame, use `newframe = frame.copy()`\n",
      "  df[new_feature] = (df[feature] == value).astype(int)       # 1(True) или 0(False) в зависимости от того, равно ли значение в ячейке текущему уникальному значению параметра\n",
      "C:\\Users\\Dmitrii\\AppData\\Local\\Temp\\ipykernel_13600\\3350976463.py:16: PerformanceWarning: DataFrame is highly fragmented.  This is usually the result of calling `frame.insert` many times, which has poor performance.  Consider joining all columns at once using pd.concat(axis=1) instead. To get a de-fragmented frame, use `newframe = frame.copy()`\n",
      "  df[new_feature] = (df[feature] == value).astype(int)       # 1(True) или 0(False) в зависимости от того, равно ли значение в ячейке текущему уникальному значению параметра\n",
      "C:\\Users\\Dmitrii\\AppData\\Local\\Temp\\ipykernel_13600\\3350976463.py:16: PerformanceWarning: DataFrame is highly fragmented.  This is usually the result of calling `frame.insert` many times, which has poor performance.  Consider joining all columns at once using pd.concat(axis=1) instead. To get a de-fragmented frame, use `newframe = frame.copy()`\n",
      "  df[new_feature] = (df[feature] == value).astype(int)       # 1(True) или 0(False) в зависимости от того, равно ли значение в ячейке текущему уникальному значению параметра\n",
      "C:\\Users\\Dmitrii\\AppData\\Local\\Temp\\ipykernel_13600\\3350976463.py:16: PerformanceWarning: DataFrame is highly fragmented.  This is usually the result of calling `frame.insert` many times, which has poor performance.  Consider joining all columns at once using pd.concat(axis=1) instead. To get a de-fragmented frame, use `newframe = frame.copy()`\n",
      "  df[new_feature] = (df[feature] == value).astype(int)       # 1(True) или 0(False) в зависимости от того, равно ли значение в ячейке текущему уникальному значению параметра\n",
      "C:\\Users\\Dmitrii\\AppData\\Local\\Temp\\ipykernel_13600\\3350976463.py:16: PerformanceWarning: DataFrame is highly fragmented.  This is usually the result of calling `frame.insert` many times, which has poor performance.  Consider joining all columns at once using pd.concat(axis=1) instead. To get a de-fragmented frame, use `newframe = frame.copy()`\n",
      "  df[new_feature] = (df[feature] == value).astype(int)       # 1(True) или 0(False) в зависимости от того, равно ли значение в ячейке текущему уникальному значению параметра\n",
      "C:\\Users\\Dmitrii\\AppData\\Local\\Temp\\ipykernel_13600\\3350976463.py:16: PerformanceWarning: DataFrame is highly fragmented.  This is usually the result of calling `frame.insert` many times, which has poor performance.  Consider joining all columns at once using pd.concat(axis=1) instead. To get a de-fragmented frame, use `newframe = frame.copy()`\n",
      "  df[new_feature] = (df[feature] == value).astype(int)       # 1(True) или 0(False) в зависимости от того, равно ли значение в ячейке текущему уникальному значению параметра\n",
      "C:\\Users\\Dmitrii\\AppData\\Local\\Temp\\ipykernel_13600\\3350976463.py:16: PerformanceWarning: DataFrame is highly fragmented.  This is usually the result of calling `frame.insert` many times, which has poor performance.  Consider joining all columns at once using pd.concat(axis=1) instead. To get a de-fragmented frame, use `newframe = frame.copy()`\n",
      "  df[new_feature] = (df[feature] == value).astype(int)       # 1(True) или 0(False) в зависимости от того, равно ли значение в ячейке текущему уникальному значению параметра\n",
      "C:\\Users\\Dmitrii\\AppData\\Local\\Temp\\ipykernel_13600\\3350976463.py:16: PerformanceWarning: DataFrame is highly fragmented.  This is usually the result of calling `frame.insert` many times, which has poor performance.  Consider joining all columns at once using pd.concat(axis=1) instead. To get a de-fragmented frame, use `newframe = frame.copy()`\n",
      "  df[new_feature] = (df[feature] == value).astype(int)       # 1(True) или 0(False) в зависимости от того, равно ли значение в ячейке текущему уникальному значению параметра\n",
      "C:\\Users\\Dmitrii\\AppData\\Local\\Temp\\ipykernel_13600\\3350976463.py:16: PerformanceWarning: DataFrame is highly fragmented.  This is usually the result of calling `frame.insert` many times, which has poor performance.  Consider joining all columns at once using pd.concat(axis=1) instead. To get a de-fragmented frame, use `newframe = frame.copy()`\n",
      "  df[new_feature] = (df[feature] == value).astype(int)       # 1(True) или 0(False) в зависимости от того, равно ли значение в ячейке текущему уникальному значению параметра\n",
      "C:\\Users\\Dmitrii\\AppData\\Local\\Temp\\ipykernel_13600\\3350976463.py:16: PerformanceWarning: DataFrame is highly fragmented.  This is usually the result of calling `frame.insert` many times, which has poor performance.  Consider joining all columns at once using pd.concat(axis=1) instead. To get a de-fragmented frame, use `newframe = frame.copy()`\n",
      "  df[new_feature] = (df[feature] == value).astype(int)       # 1(True) или 0(False) в зависимости от того, равно ли значение в ячейке текущему уникальному значению параметра\n",
      "C:\\Users\\Dmitrii\\AppData\\Local\\Temp\\ipykernel_13600\\3350976463.py:16: PerformanceWarning: DataFrame is highly fragmented.  This is usually the result of calling `frame.insert` many times, which has poor performance.  Consider joining all columns at once using pd.concat(axis=1) instead. To get a de-fragmented frame, use `newframe = frame.copy()`\n",
      "  df[new_feature] = (df[feature] == value).astype(int)       # 1(True) или 0(False) в зависимости от того, равно ли значение в ячейке текущему уникальному значению параметра\n",
      "C:\\Users\\Dmitrii\\AppData\\Local\\Temp\\ipykernel_13600\\3350976463.py:16: PerformanceWarning: DataFrame is highly fragmented.  This is usually the result of calling `frame.insert` many times, which has poor performance.  Consider joining all columns at once using pd.concat(axis=1) instead. To get a de-fragmented frame, use `newframe = frame.copy()`\n",
      "  df[new_feature] = (df[feature] == value).astype(int)       # 1(True) или 0(False) в зависимости от того, равно ли значение в ячейке текущему уникальному значению параметра\n",
      "C:\\Users\\Dmitrii\\AppData\\Local\\Temp\\ipykernel_13600\\3350976463.py:16: PerformanceWarning: DataFrame is highly fragmented.  This is usually the result of calling `frame.insert` many times, which has poor performance.  Consider joining all columns at once using pd.concat(axis=1) instead. To get a de-fragmented frame, use `newframe = frame.copy()`\n",
      "  df[new_feature] = (df[feature] == value).astype(int)       # 1(True) или 0(False) в зависимости от того, равно ли значение в ячейке текущему уникальному значению параметра\n",
      "C:\\Users\\Dmitrii\\AppData\\Local\\Temp\\ipykernel_13600\\3350976463.py:16: PerformanceWarning: DataFrame is highly fragmented.  This is usually the result of calling `frame.insert` many times, which has poor performance.  Consider joining all columns at once using pd.concat(axis=1) instead. To get a de-fragmented frame, use `newframe = frame.copy()`\n",
      "  df[new_feature] = (df[feature] == value).astype(int)       # 1(True) или 0(False) в зависимости от того, равно ли значение в ячейке текущему уникальному значению параметра\n",
      "C:\\Users\\Dmitrii\\AppData\\Local\\Temp\\ipykernel_13600\\3350976463.py:16: PerformanceWarning: DataFrame is highly fragmented.  This is usually the result of calling `frame.insert` many times, which has poor performance.  Consider joining all columns at once using pd.concat(axis=1) instead. To get a de-fragmented frame, use `newframe = frame.copy()`\n",
      "  df[new_feature] = (df[feature] == value).astype(int)       # 1(True) или 0(False) в зависимости от того, равно ли значение в ячейке текущему уникальному значению параметра\n",
      "C:\\Users\\Dmitrii\\AppData\\Local\\Temp\\ipykernel_13600\\3350976463.py:16: PerformanceWarning: DataFrame is highly fragmented.  This is usually the result of calling `frame.insert` many times, which has poor performance.  Consider joining all columns at once using pd.concat(axis=1) instead. To get a de-fragmented frame, use `newframe = frame.copy()`\n",
      "  df[new_feature] = (df[feature] == value).astype(int)       # 1(True) или 0(False) в зависимости от того, равно ли значение в ячейке текущему уникальному значению параметра\n",
      "C:\\Users\\Dmitrii\\AppData\\Local\\Temp\\ipykernel_13600\\3350976463.py:16: PerformanceWarning: DataFrame is highly fragmented.  This is usually the result of calling `frame.insert` many times, which has poor performance.  Consider joining all columns at once using pd.concat(axis=1) instead. To get a de-fragmented frame, use `newframe = frame.copy()`\n",
      "  df[new_feature] = (df[feature] == value).astype(int)       # 1(True) или 0(False) в зависимости от того, равно ли значение в ячейке текущему уникальному значению параметра\n",
      "C:\\Users\\Dmitrii\\AppData\\Local\\Temp\\ipykernel_13600\\3350976463.py:16: PerformanceWarning: DataFrame is highly fragmented.  This is usually the result of calling `frame.insert` many times, which has poor performance.  Consider joining all columns at once using pd.concat(axis=1) instead. To get a de-fragmented frame, use `newframe = frame.copy()`\n",
      "  df[new_feature] = (df[feature] == value).astype(int)       # 1(True) или 0(False) в зависимости от того, равно ли значение в ячейке текущему уникальному значению параметра\n",
      "C:\\Users\\Dmitrii\\AppData\\Local\\Temp\\ipykernel_13600\\3350976463.py:16: PerformanceWarning: DataFrame is highly fragmented.  This is usually the result of calling `frame.insert` many times, which has poor performance.  Consider joining all columns at once using pd.concat(axis=1) instead. To get a de-fragmented frame, use `newframe = frame.copy()`\n",
      "  df[new_feature] = (df[feature] == value).astype(int)       # 1(True) или 0(False) в зависимости от того, равно ли значение в ячейке текущему уникальному значению параметра\n",
      "C:\\Users\\Dmitrii\\AppData\\Local\\Temp\\ipykernel_13600\\3350976463.py:16: PerformanceWarning: DataFrame is highly fragmented.  This is usually the result of calling `frame.insert` many times, which has poor performance.  Consider joining all columns at once using pd.concat(axis=1) instead. To get a de-fragmented frame, use `newframe = frame.copy()`\n",
      "  df[new_feature] = (df[feature] == value).astype(int)       # 1(True) или 0(False) в зависимости от того, равно ли значение в ячейке текущему уникальному значению параметра\n",
      "C:\\Users\\Dmitrii\\AppData\\Local\\Temp\\ipykernel_13600\\3350976463.py:16: PerformanceWarning: DataFrame is highly fragmented.  This is usually the result of calling `frame.insert` many times, which has poor performance.  Consider joining all columns at once using pd.concat(axis=1) instead. To get a de-fragmented frame, use `newframe = frame.copy()`\n",
      "  df[new_feature] = (df[feature] == value).astype(int)       # 1(True) или 0(False) в зависимости от того, равно ли значение в ячейке текущему уникальному значению параметра\n",
      "C:\\Users\\Dmitrii\\AppData\\Local\\Temp\\ipykernel_13600\\3350976463.py:16: PerformanceWarning: DataFrame is highly fragmented.  This is usually the result of calling `frame.insert` many times, which has poor performance.  Consider joining all columns at once using pd.concat(axis=1) instead. To get a de-fragmented frame, use `newframe = frame.copy()`\n",
      "  df[new_feature] = (df[feature] == value).astype(int)       # 1(True) или 0(False) в зависимости от того, равно ли значение в ячейке текущему уникальному значению параметра\n",
      "C:\\Users\\Dmitrii\\AppData\\Local\\Temp\\ipykernel_13600\\3350976463.py:16: PerformanceWarning: DataFrame is highly fragmented.  This is usually the result of calling `frame.insert` many times, which has poor performance.  Consider joining all columns at once using pd.concat(axis=1) instead. To get a de-fragmented frame, use `newframe = frame.copy()`\n",
      "  df[new_feature] = (df[feature] == value).astype(int)       # 1(True) или 0(False) в зависимости от того, равно ли значение в ячейке текущему уникальному значению параметра\n",
      "C:\\Users\\Dmitrii\\AppData\\Local\\Temp\\ipykernel_13600\\3350976463.py:16: PerformanceWarning: DataFrame is highly fragmented.  This is usually the result of calling `frame.insert` many times, which has poor performance.  Consider joining all columns at once using pd.concat(axis=1) instead. To get a de-fragmented frame, use `newframe = frame.copy()`\n",
      "  df[new_feature] = (df[feature] == value).astype(int)       # 1(True) или 0(False) в зависимости от того, равно ли значение в ячейке текущему уникальному значению параметра\n",
      "C:\\Users\\Dmitrii\\AppData\\Local\\Temp\\ipykernel_13600\\3350976463.py:16: PerformanceWarning: DataFrame is highly fragmented.  This is usually the result of calling `frame.insert` many times, which has poor performance.  Consider joining all columns at once using pd.concat(axis=1) instead. To get a de-fragmented frame, use `newframe = frame.copy()`\n",
      "  df[new_feature] = (df[feature] == value).astype(int)       # 1(True) или 0(False) в зависимости от того, равно ли значение в ячейке текущему уникальному значению параметра\n",
      "C:\\Users\\Dmitrii\\AppData\\Local\\Temp\\ipykernel_13600\\3350976463.py:16: PerformanceWarning: DataFrame is highly fragmented.  This is usually the result of calling `frame.insert` many times, which has poor performance.  Consider joining all columns at once using pd.concat(axis=1) instead. To get a de-fragmented frame, use `newframe = frame.copy()`\n",
      "  df[new_feature] = (df[feature] == value).astype(int)       # 1(True) или 0(False) в зависимости от того, равно ли значение в ячейке текущему уникальному значению параметра\n",
      "C:\\Users\\Dmitrii\\AppData\\Local\\Temp\\ipykernel_13600\\3350976463.py:16: PerformanceWarning: DataFrame is highly fragmented.  This is usually the result of calling `frame.insert` many times, which has poor performance.  Consider joining all columns at once using pd.concat(axis=1) instead. To get a de-fragmented frame, use `newframe = frame.copy()`\n",
      "  df[new_feature] = (df[feature] == value).astype(int)       # 1(True) или 0(False) в зависимости от того, равно ли значение в ячейке текущему уникальному значению параметра\n",
      "C:\\Users\\Dmitrii\\AppData\\Local\\Temp\\ipykernel_13600\\3350976463.py:16: PerformanceWarning: DataFrame is highly fragmented.  This is usually the result of calling `frame.insert` many times, which has poor performance.  Consider joining all columns at once using pd.concat(axis=1) instead. To get a de-fragmented frame, use `newframe = frame.copy()`\n",
      "  df[new_feature] = (df[feature] == value).astype(int)       # 1(True) или 0(False) в зависимости от того, равно ли значение в ячейке текущему уникальному значению параметра\n",
      "C:\\Users\\Dmitrii\\AppData\\Local\\Temp\\ipykernel_13600\\3350976463.py:16: PerformanceWarning: DataFrame is highly fragmented.  This is usually the result of calling `frame.insert` many times, which has poor performance.  Consider joining all columns at once using pd.concat(axis=1) instead. To get a de-fragmented frame, use `newframe = frame.copy()`\n",
      "  df[new_feature] = (df[feature] == value).astype(int)       # 1(True) или 0(False) в зависимости от того, равно ли значение в ячейке текущему уникальному значению параметра\n",
      "C:\\Users\\Dmitrii\\AppData\\Local\\Temp\\ipykernel_13600\\3350976463.py:16: PerformanceWarning: DataFrame is highly fragmented.  This is usually the result of calling `frame.insert` many times, which has poor performance.  Consider joining all columns at once using pd.concat(axis=1) instead. To get a de-fragmented frame, use `newframe = frame.copy()`\n",
      "  df[new_feature] = (df[feature] == value).astype(int)       # 1(True) или 0(False) в зависимости от того, равно ли значение в ячейке текущему уникальному значению параметра\n",
      "C:\\Users\\Dmitrii\\AppData\\Local\\Temp\\ipykernel_13600\\3350976463.py:16: PerformanceWarning: DataFrame is highly fragmented.  This is usually the result of calling `frame.insert` many times, which has poor performance.  Consider joining all columns at once using pd.concat(axis=1) instead. To get a de-fragmented frame, use `newframe = frame.copy()`\n",
      "  df[new_feature] = (df[feature] == value).astype(int)       # 1(True) или 0(False) в зависимости от того, равно ли значение в ячейке текущему уникальному значению параметра\n",
      "C:\\Users\\Dmitrii\\AppData\\Local\\Temp\\ipykernel_13600\\3350976463.py:16: PerformanceWarning: DataFrame is highly fragmented.  This is usually the result of calling `frame.insert` many times, which has poor performance.  Consider joining all columns at once using pd.concat(axis=1) instead. To get a de-fragmented frame, use `newframe = frame.copy()`\n",
      "  df[new_feature] = (df[feature] == value).astype(int)       # 1(True) или 0(False) в зависимости от того, равно ли значение в ячейке текущему уникальному значению параметра\n",
      "C:\\Users\\Dmitrii\\AppData\\Local\\Temp\\ipykernel_13600\\3350976463.py:16: PerformanceWarning: DataFrame is highly fragmented.  This is usually the result of calling `frame.insert` many times, which has poor performance.  Consider joining all columns at once using pd.concat(axis=1) instead. To get a de-fragmented frame, use `newframe = frame.copy()`\n",
      "  df[new_feature] = (df[feature] == value).astype(int)       # 1(True) или 0(False) в зависимости от того, равно ли значение в ячейке текущему уникальному значению параметра\n",
      "C:\\Users\\Dmitrii\\AppData\\Local\\Temp\\ipykernel_13600\\3350976463.py:16: PerformanceWarning: DataFrame is highly fragmented.  This is usually the result of calling `frame.insert` many times, which has poor performance.  Consider joining all columns at once using pd.concat(axis=1) instead. To get a de-fragmented frame, use `newframe = frame.copy()`\n",
      "  df[new_feature] = (df[feature] == value).astype(int)       # 1(True) или 0(False) в зависимости от того, равно ли значение в ячейке текущему уникальному значению параметра\n",
      "C:\\Users\\Dmitrii\\AppData\\Local\\Temp\\ipykernel_13600\\3350976463.py:16: PerformanceWarning: DataFrame is highly fragmented.  This is usually the result of calling `frame.insert` many times, which has poor performance.  Consider joining all columns at once using pd.concat(axis=1) instead. To get a de-fragmented frame, use `newframe = frame.copy()`\n",
      "  df[new_feature] = (df[feature] == value).astype(int)       # 1(True) или 0(False) в зависимости от того, равно ли значение в ячейке текущему уникальному значению параметра\n",
      "C:\\Users\\Dmitrii\\AppData\\Local\\Temp\\ipykernel_13600\\3350976463.py:16: PerformanceWarning: DataFrame is highly fragmented.  This is usually the result of calling `frame.insert` many times, which has poor performance.  Consider joining all columns at once using pd.concat(axis=1) instead. To get a de-fragmented frame, use `newframe = frame.copy()`\n",
      "  df[new_feature] = (df[feature] == value).astype(int)       # 1(True) или 0(False) в зависимости от того, равно ли значение в ячейке текущему уникальному значению параметра\n",
      "C:\\Users\\Dmitrii\\AppData\\Local\\Temp\\ipykernel_13600\\3350976463.py:8: PerformanceWarning: DataFrame is highly fragmented.  This is usually the result of calling `frame.insert` many times, which has poor performance.  Consider joining all columns at once using pd.concat(axis=1) instead. To get a de-fragmented frame, use `newframe = frame.copy()`\n",
      "  df[new_feature] = df['market_category'].str.contains(value, regex=False).astype(int)  # 1(True) или 0(False) в зависимости от того, содержится ли уникальное слово в ячейке\n",
      "C:\\Users\\Dmitrii\\AppData\\Local\\Temp\\ipykernel_13600\\3350976463.py:8: PerformanceWarning: DataFrame is highly fragmented.  This is usually the result of calling `frame.insert` many times, which has poor performance.  Consider joining all columns at once using pd.concat(axis=1) instead. To get a de-fragmented frame, use `newframe = frame.copy()`\n",
      "  df[new_feature] = df['market_category'].str.contains(value, regex=False).astype(int)  # 1(True) или 0(False) в зависимости от того, содержится ли уникальное слово в ячейке\n"
     ]
    },
    {
     "name": "stderr",
     "output_type": "stream",
     "text": [
      "C:\\Users\\Dmitrii\\AppData\\Local\\Temp\\ipykernel_13600\\3350976463.py:8: PerformanceWarning: DataFrame is highly fragmented.  This is usually the result of calling `frame.insert` many times, which has poor performance.  Consider joining all columns at once using pd.concat(axis=1) instead. To get a de-fragmented frame, use `newframe = frame.copy()`\n",
      "  df[new_feature] = df['market_category'].str.contains(value, regex=False).astype(int)  # 1(True) или 0(False) в зависимости от того, содержится ли уникальное слово в ячейке\n",
      "C:\\Users\\Dmitrii\\AppData\\Local\\Temp\\ipykernel_13600\\3350976463.py:8: PerformanceWarning: DataFrame is highly fragmented.  This is usually the result of calling `frame.insert` many times, which has poor performance.  Consider joining all columns at once using pd.concat(axis=1) instead. To get a de-fragmented frame, use `newframe = frame.copy()`\n",
      "  df[new_feature] = df['market_category'].str.contains(value, regex=False).astype(int)  # 1(True) или 0(False) в зависимости от того, содержится ли уникальное слово в ячейке\n",
      "C:\\Users\\Dmitrii\\AppData\\Local\\Temp\\ipykernel_13600\\3350976463.py:8: PerformanceWarning: DataFrame is highly fragmented.  This is usually the result of calling `frame.insert` many times, which has poor performance.  Consider joining all columns at once using pd.concat(axis=1) instead. To get a de-fragmented frame, use `newframe = frame.copy()`\n",
      "  df[new_feature] = df['market_category'].str.contains(value, regex=False).astype(int)  # 1(True) или 0(False) в зависимости от того, содержится ли уникальное слово в ячейке\n",
      "C:\\Users\\Dmitrii\\AppData\\Local\\Temp\\ipykernel_13600\\3350976463.py:8: PerformanceWarning: DataFrame is highly fragmented.  This is usually the result of calling `frame.insert` many times, which has poor performance.  Consider joining all columns at once using pd.concat(axis=1) instead. To get a de-fragmented frame, use `newframe = frame.copy()`\n",
      "  df[new_feature] = df['market_category'].str.contains(value, regex=False).astype(int)  # 1(True) или 0(False) в зависимости от того, содержится ли уникальное слово в ячейке\n",
      "C:\\Users\\Dmitrii\\AppData\\Local\\Temp\\ipykernel_13600\\3350976463.py:8: PerformanceWarning: DataFrame is highly fragmented.  This is usually the result of calling `frame.insert` many times, which has poor performance.  Consider joining all columns at once using pd.concat(axis=1) instead. To get a de-fragmented frame, use `newframe = frame.copy()`\n",
      "  df[new_feature] = df['market_category'].str.contains(value, regex=False).astype(int)  # 1(True) или 0(False) в зависимости от того, содержится ли уникальное слово в ячейке\n",
      "C:\\Users\\Dmitrii\\AppData\\Local\\Temp\\ipykernel_13600\\3350976463.py:8: PerformanceWarning: DataFrame is highly fragmented.  This is usually the result of calling `frame.insert` many times, which has poor performance.  Consider joining all columns at once using pd.concat(axis=1) instead. To get a de-fragmented frame, use `newframe = frame.copy()`\n",
      "  df[new_feature] = df['market_category'].str.contains(value, regex=False).astype(int)  # 1(True) или 0(False) в зависимости от того, содержится ли уникальное слово в ячейке\n",
      "C:\\Users\\Dmitrii\\AppData\\Local\\Temp\\ipykernel_13600\\3350976463.py:8: PerformanceWarning: DataFrame is highly fragmented.  This is usually the result of calling `frame.insert` many times, which has poor performance.  Consider joining all columns at once using pd.concat(axis=1) instead. To get a de-fragmented frame, use `newframe = frame.copy()`\n",
      "  df[new_feature] = df['market_category'].str.contains(value, regex=False).astype(int)  # 1(True) или 0(False) в зависимости от того, содержится ли уникальное слово в ячейке\n",
      "C:\\Users\\Dmitrii\\AppData\\Local\\Temp\\ipykernel_13600\\3350976463.py:8: PerformanceWarning: DataFrame is highly fragmented.  This is usually the result of calling `frame.insert` many times, which has poor performance.  Consider joining all columns at once using pd.concat(axis=1) instead. To get a de-fragmented frame, use `newframe = frame.copy()`\n",
      "  df[new_feature] = df['market_category'].str.contains(value, regex=False).astype(int)  # 1(True) или 0(False) в зависимости от того, содержится ли уникальное слово в ячейке\n",
      "C:\\Users\\Dmitrii\\AppData\\Local\\Temp\\ipykernel_13600\\3350976463.py:16: PerformanceWarning: DataFrame is highly fragmented.  This is usually the result of calling `frame.insert` many times, which has poor performance.  Consider joining all columns at once using pd.concat(axis=1) instead. To get a de-fragmented frame, use `newframe = frame.copy()`\n",
      "  df[new_feature] = (df[feature] == value).astype(int)       # 1(True) или 0(False) в зависимости от того, равно ли значение в ячейке текущему уникальному значению параметра\n",
      "C:\\Users\\Dmitrii\\AppData\\Local\\Temp\\ipykernel_13600\\3350976463.py:16: PerformanceWarning: DataFrame is highly fragmented.  This is usually the result of calling `frame.insert` many times, which has poor performance.  Consider joining all columns at once using pd.concat(axis=1) instead. To get a de-fragmented frame, use `newframe = frame.copy()`\n",
      "  df[new_feature] = (df[feature] == value).astype(int)       # 1(True) или 0(False) в зависимости от того, равно ли значение в ячейке текущему уникальному значению параметра\n",
      "C:\\Users\\Dmitrii\\AppData\\Local\\Temp\\ipykernel_13600\\3350976463.py:16: PerformanceWarning: DataFrame is highly fragmented.  This is usually the result of calling `frame.insert` many times, which has poor performance.  Consider joining all columns at once using pd.concat(axis=1) instead. To get a de-fragmented frame, use `newframe = frame.copy()`\n",
      "  df[new_feature] = (df[feature] == value).astype(int)       # 1(True) или 0(False) в зависимости от того, равно ли значение в ячейке текущему уникальному значению параметра\n",
      "C:\\Users\\Dmitrii\\AppData\\Local\\Temp\\ipykernel_13600\\3350976463.py:16: PerformanceWarning: DataFrame is highly fragmented.  This is usually the result of calling `frame.insert` many times, which has poor performance.  Consider joining all columns at once using pd.concat(axis=1) instead. To get a de-fragmented frame, use `newframe = frame.copy()`\n",
      "  df[new_feature] = (df[feature] == value).astype(int)       # 1(True) или 0(False) в зависимости от того, равно ли значение в ячейке текущему уникальному значению параметра\n",
      "C:\\Users\\Dmitrii\\AppData\\Local\\Temp\\ipykernel_13600\\3350976463.py:16: PerformanceWarning: DataFrame is highly fragmented.  This is usually the result of calling `frame.insert` many times, which has poor performance.  Consider joining all columns at once using pd.concat(axis=1) instead. To get a de-fragmented frame, use `newframe = frame.copy()`\n",
      "  df[new_feature] = (df[feature] == value).astype(int)       # 1(True) или 0(False) в зависимости от того, равно ли значение в ячейке текущему уникальному значению параметра\n",
      "C:\\Users\\Dmitrii\\AppData\\Local\\Temp\\ipykernel_13600\\3350976463.py:16: PerformanceWarning: DataFrame is highly fragmented.  This is usually the result of calling `frame.insert` many times, which has poor performance.  Consider joining all columns at once using pd.concat(axis=1) instead. To get a de-fragmented frame, use `newframe = frame.copy()`\n",
      "  df[new_feature] = (df[feature] == value).astype(int)       # 1(True) или 0(False) в зависимости от того, равно ли значение в ячейке текущему уникальному значению параметра\n",
      "C:\\Users\\Dmitrii\\AppData\\Local\\Temp\\ipykernel_13600\\3350976463.py:16: PerformanceWarning: DataFrame is highly fragmented.  This is usually the result of calling `frame.insert` many times, which has poor performance.  Consider joining all columns at once using pd.concat(axis=1) instead. To get a de-fragmented frame, use `newframe = frame.copy()`\n",
      "  df[new_feature] = (df[feature] == value).astype(int)       # 1(True) или 0(False) в зависимости от того, равно ли значение в ячейке текущему уникальному значению параметра\n",
      "C:\\Users\\Dmitrii\\AppData\\Local\\Temp\\ipykernel_13600\\3350976463.py:16: PerformanceWarning: DataFrame is highly fragmented.  This is usually the result of calling `frame.insert` many times, which has poor performance.  Consider joining all columns at once using pd.concat(axis=1) instead. To get a de-fragmented frame, use `newframe = frame.copy()`\n",
      "  df[new_feature] = (df[feature] == value).astype(int)       # 1(True) или 0(False) в зависимости от того, равно ли значение в ячейке текущему уникальному значению параметра\n",
      "C:\\Users\\Dmitrii\\AppData\\Local\\Temp\\ipykernel_13600\\3350976463.py:16: PerformanceWarning: DataFrame is highly fragmented.  This is usually the result of calling `frame.insert` many times, which has poor performance.  Consider joining all columns at once using pd.concat(axis=1) instead. To get a de-fragmented frame, use `newframe = frame.copy()`\n",
      "  df[new_feature] = (df[feature] == value).astype(int)       # 1(True) или 0(False) в зависимости от того, равно ли значение в ячейке текущему уникальному значению параметра\n",
      "C:\\Users\\Dmitrii\\AppData\\Local\\Temp\\ipykernel_13600\\3350976463.py:16: PerformanceWarning: DataFrame is highly fragmented.  This is usually the result of calling `frame.insert` many times, which has poor performance.  Consider joining all columns at once using pd.concat(axis=1) instead. To get a de-fragmented frame, use `newframe = frame.copy()`\n",
      "  df[new_feature] = (df[feature] == value).astype(int)       # 1(True) или 0(False) в зависимости от того, равно ли значение в ячейке текущему уникальному значению параметра\n",
      "C:\\Users\\Dmitrii\\AppData\\Local\\Temp\\ipykernel_13600\\3350976463.py:16: PerformanceWarning: DataFrame is highly fragmented.  This is usually the result of calling `frame.insert` many times, which has poor performance.  Consider joining all columns at once using pd.concat(axis=1) instead. To get a de-fragmented frame, use `newframe = frame.copy()`\n",
      "  df[new_feature] = (df[feature] == value).astype(int)       # 1(True) или 0(False) в зависимости от того, равно ли значение в ячейке текущему уникальному значению параметра\n",
      "C:\\Users\\Dmitrii\\AppData\\Local\\Temp\\ipykernel_13600\\3350976463.py:16: PerformanceWarning: DataFrame is highly fragmented.  This is usually the result of calling `frame.insert` many times, which has poor performance.  Consider joining all columns at once using pd.concat(axis=1) instead. To get a de-fragmented frame, use `newframe = frame.copy()`\n",
      "  df[new_feature] = (df[feature] == value).astype(int)       # 1(True) или 0(False) в зависимости от того, равно ли значение в ячейке текущему уникальному значению параметра\n",
      "C:\\Users\\Dmitrii\\AppData\\Local\\Temp\\ipykernel_13600\\3350976463.py:16: PerformanceWarning: DataFrame is highly fragmented.  This is usually the result of calling `frame.insert` many times, which has poor performance.  Consider joining all columns at once using pd.concat(axis=1) instead. To get a de-fragmented frame, use `newframe = frame.copy()`\n",
      "  df[new_feature] = (df[feature] == value).astype(int)       # 1(True) или 0(False) в зависимости от того, равно ли значение в ячейке текущему уникальному значению параметра\n",
      "C:\\Users\\Dmitrii\\AppData\\Local\\Temp\\ipykernel_13600\\3350976463.py:16: PerformanceWarning: DataFrame is highly fragmented.  This is usually the result of calling `frame.insert` many times, which has poor performance.  Consider joining all columns at once using pd.concat(axis=1) instead. To get a de-fragmented frame, use `newframe = frame.copy()`\n",
      "  df[new_feature] = (df[feature] == value).astype(int)       # 1(True) или 0(False) в зависимости от того, равно ли значение в ячейке текущему уникальному значению параметра\n",
      "C:\\Users\\Dmitrii\\AppData\\Local\\Temp\\ipykernel_13600\\3350976463.py:16: PerformanceWarning: DataFrame is highly fragmented.  This is usually the result of calling `frame.insert` many times, which has poor performance.  Consider joining all columns at once using pd.concat(axis=1) instead. To get a de-fragmented frame, use `newframe = frame.copy()`\n",
      "  df[new_feature] = (df[feature] == value).astype(int)       # 1(True) или 0(False) в зависимости от того, равно ли значение в ячейке текущему уникальному значению параметра\n",
      "C:\\Users\\Dmitrii\\AppData\\Local\\Temp\\ipykernel_13600\\3350976463.py:16: PerformanceWarning: DataFrame is highly fragmented.  This is usually the result of calling `frame.insert` many times, which has poor performance.  Consider joining all columns at once using pd.concat(axis=1) instead. To get a de-fragmented frame, use `newframe = frame.copy()`\n",
      "  df[new_feature] = (df[feature] == value).astype(int)       # 1(True) или 0(False) в зависимости от того, равно ли значение в ячейке текущему уникальному значению параметра\n",
      "C:\\Users\\Dmitrii\\AppData\\Local\\Temp\\ipykernel_13600\\3350976463.py:16: PerformanceWarning: DataFrame is highly fragmented.  This is usually the result of calling `frame.insert` many times, which has poor performance.  Consider joining all columns at once using pd.concat(axis=1) instead. To get a de-fragmented frame, use `newframe = frame.copy()`\n",
      "  df[new_feature] = (df[feature] == value).astype(int)       # 1(True) или 0(False) в зависимости от того, равно ли значение в ячейке текущему уникальному значению параметра\n",
      "C:\\Users\\Dmitrii\\AppData\\Local\\Temp\\ipykernel_13600\\3350976463.py:16: PerformanceWarning: DataFrame is highly fragmented.  This is usually the result of calling `frame.insert` many times, which has poor performance.  Consider joining all columns at once using pd.concat(axis=1) instead. To get a de-fragmented frame, use `newframe = frame.copy()`\n",
      "  df[new_feature] = (df[feature] == value).astype(int)       # 1(True) или 0(False) в зависимости от того, равно ли значение в ячейке текущему уникальному значению параметра\n",
      "C:\\Users\\Dmitrii\\AppData\\Local\\Temp\\ipykernel_13600\\3350976463.py:16: PerformanceWarning: DataFrame is highly fragmented.  This is usually the result of calling `frame.insert` many times, which has poor performance.  Consider joining all columns at once using pd.concat(axis=1) instead. To get a de-fragmented frame, use `newframe = frame.copy()`\n",
      "  df[new_feature] = (df[feature] == value).astype(int)       # 1(True) или 0(False) в зависимости от того, равно ли значение в ячейке текущему уникальному значению параметра\n",
      "C:\\Users\\Dmitrii\\AppData\\Local\\Temp\\ipykernel_13600\\3350976463.py:16: PerformanceWarning: DataFrame is highly fragmented.  This is usually the result of calling `frame.insert` many times, which has poor performance.  Consider joining all columns at once using pd.concat(axis=1) instead. To get a de-fragmented frame, use `newframe = frame.copy()`\n",
      "  df[new_feature] = (df[feature] == value).astype(int)       # 1(True) или 0(False) в зависимости от того, равно ли значение в ячейке текущему уникальному значению параметра\n",
      "C:\\Users\\Dmitrii\\AppData\\Local\\Temp\\ipykernel_13600\\3350976463.py:16: PerformanceWarning: DataFrame is highly fragmented.  This is usually the result of calling `frame.insert` many times, which has poor performance.  Consider joining all columns at once using pd.concat(axis=1) instead. To get a de-fragmented frame, use `newframe = frame.copy()`\n",
      "  df[new_feature] = (df[feature] == value).astype(int)       # 1(True) или 0(False) в зависимости от того, равно ли значение в ячейке текущему уникальному значению параметра\n",
      "C:\\Users\\Dmitrii\\AppData\\Local\\Temp\\ipykernel_13600\\3350976463.py:16: PerformanceWarning: DataFrame is highly fragmented.  This is usually the result of calling `frame.insert` many times, which has poor performance.  Consider joining all columns at once using pd.concat(axis=1) instead. To get a de-fragmented frame, use `newframe = frame.copy()`\n",
      "  df[new_feature] = (df[feature] == value).astype(int)       # 1(True) или 0(False) в зависимости от того, равно ли значение в ячейке текущему уникальному значению параметра\n"
     ]
    }
   ],
   "source": [
    "# делаем копию исходного перемешанного набора данных и обрабатываем его с помощью новой функции\n",
    "\n",
    "df_shuffled_new = df_shuffled.copy()\n",
    "prepare_new_features(df_shuffled_new, cat_features, set_market_category, n_models)"
   ]
  },
  {
   "cell_type": "code",
   "execution_count": 46,
   "id": "8d8d1ee3",
   "metadata": {},
   "outputs": [
    {
     "data": {
      "text/html": [
       "<div>\n",
       "<style scoped>\n",
       "    .dataframe tbody tr th:only-of-type {\n",
       "        vertical-align: middle;\n",
       "    }\n",
       "\n",
       "    .dataframe tbody tr th {\n",
       "        vertical-align: top;\n",
       "    }\n",
       "\n",
       "    .dataframe thead th {\n",
       "        text-align: right;\n",
       "    }\n",
       "</style>\n",
       "<table border=\"1\" class=\"dataframe\">\n",
       "  <thead>\n",
       "    <tr style=\"text-align: right;\">\n",
       "      <th></th>\n",
       "      <th>make</th>\n",
       "      <th>model</th>\n",
       "      <th>year</th>\n",
       "      <th>engine_fuel_type</th>\n",
       "      <th>engine_hp</th>\n",
       "      <th>engine_cylinders</th>\n",
       "      <th>transmission_type</th>\n",
       "      <th>driven_wheels</th>\n",
       "      <th>number_of_doors</th>\n",
       "      <th>market_category</th>\n",
       "      <th>...</th>\n",
       "      <th>vehicle_style_regular_cab_pickup</th>\n",
       "      <th>vehicle_style_4dr_suv</th>\n",
       "      <th>vehicle_style_extended_cab_pickup</th>\n",
       "      <th>vehicle_style_2dr_hatchback</th>\n",
       "      <th>vehicle_style_wagon</th>\n",
       "      <th>vehicle_style_2dr_suv</th>\n",
       "      <th>vehicle_style_cargo_van</th>\n",
       "      <th>vehicle_style_passenger_van</th>\n",
       "      <th>vehicle_style_cargo_minivan</th>\n",
       "      <th>vehicle_style_convertible_suv</th>\n",
       "    </tr>\n",
       "  </thead>\n",
       "  <tbody>\n",
       "    <tr>\n",
       "      <th>2735</th>\n",
       "      <td>chevrolet</td>\n",
       "      <td>cobalt</td>\n",
       "      <td>2008</td>\n",
       "      <td>regular_unleaded</td>\n",
       "      <td>148.0</td>\n",
       "      <td>4.0</td>\n",
       "      <td>manual</td>\n",
       "      <td>front_wheel_drive</td>\n",
       "      <td>2.0</td>\n",
       "      <td></td>\n",
       "      <td>...</td>\n",
       "      <td>0</td>\n",
       "      <td>0</td>\n",
       "      <td>0</td>\n",
       "      <td>0</td>\n",
       "      <td>0</td>\n",
       "      <td>0</td>\n",
       "      <td>0</td>\n",
       "      <td>0</td>\n",
       "      <td>0</td>\n",
       "      <td>0</td>\n",
       "    </tr>\n",
       "    <tr>\n",
       "      <th>6720</th>\n",
       "      <td>toyota</td>\n",
       "      <td>matrix</td>\n",
       "      <td>2012</td>\n",
       "      <td>regular_unleaded</td>\n",
       "      <td>132.0</td>\n",
       "      <td>4.0</td>\n",
       "      <td>automatic</td>\n",
       "      <td>front_wheel_drive</td>\n",
       "      <td>4.0</td>\n",
       "      <td>hatchback</td>\n",
       "      <td>...</td>\n",
       "      <td>0</td>\n",
       "      <td>0</td>\n",
       "      <td>0</td>\n",
       "      <td>0</td>\n",
       "      <td>0</td>\n",
       "      <td>0</td>\n",
       "      <td>0</td>\n",
       "      <td>0</td>\n",
       "      <td>0</td>\n",
       "      <td>0</td>\n",
       "    </tr>\n",
       "    <tr>\n",
       "      <th>5878</th>\n",
       "      <td>subaru</td>\n",
       "      <td>impreza</td>\n",
       "      <td>2016</td>\n",
       "      <td>regular_unleaded</td>\n",
       "      <td>148.0</td>\n",
       "      <td>4.0</td>\n",
       "      <td>automatic</td>\n",
       "      <td>all_wheel_drive</td>\n",
       "      <td>4.0</td>\n",
       "      <td>hatchback</td>\n",
       "      <td>...</td>\n",
       "      <td>0</td>\n",
       "      <td>0</td>\n",
       "      <td>0</td>\n",
       "      <td>0</td>\n",
       "      <td>0</td>\n",
       "      <td>0</td>\n",
       "      <td>0</td>\n",
       "      <td>0</td>\n",
       "      <td>0</td>\n",
       "      <td>0</td>\n",
       "    </tr>\n",
       "    <tr>\n",
       "      <th>11190</th>\n",
       "      <td>volkswagen</td>\n",
       "      <td>vanagon</td>\n",
       "      <td>1991</td>\n",
       "      <td>regular_unleaded</td>\n",
       "      <td>90.0</td>\n",
       "      <td>4.0</td>\n",
       "      <td>manual</td>\n",
       "      <td>rear_wheel_drive</td>\n",
       "      <td>3.0</td>\n",
       "      <td></td>\n",
       "      <td>...</td>\n",
       "      <td>0</td>\n",
       "      <td>0</td>\n",
       "      <td>0</td>\n",
       "      <td>0</td>\n",
       "      <td>0</td>\n",
       "      <td>0</td>\n",
       "      <td>0</td>\n",
       "      <td>0</td>\n",
       "      <td>0</td>\n",
       "      <td>0</td>\n",
       "    </tr>\n",
       "    <tr>\n",
       "      <th>4554</th>\n",
       "      <td>ford</td>\n",
       "      <td>f-150</td>\n",
       "      <td>2017</td>\n",
       "      <td>flex-fuel_(unleaded/e85)</td>\n",
       "      <td>385.0</td>\n",
       "      <td>8.0</td>\n",
       "      <td>automatic</td>\n",
       "      <td>four_wheel_drive</td>\n",
       "      <td>4.0</td>\n",
       "      <td>flex_fuel</td>\n",
       "      <td>...</td>\n",
       "      <td>0</td>\n",
       "      <td>0</td>\n",
       "      <td>0</td>\n",
       "      <td>0</td>\n",
       "      <td>0</td>\n",
       "      <td>0</td>\n",
       "      <td>0</td>\n",
       "      <td>0</td>\n",
       "      <td>0</td>\n",
       "      <td>0</td>\n",
       "    </tr>\n",
       "    <tr>\n",
       "      <th>...</th>\n",
       "      <td>...</td>\n",
       "      <td>...</td>\n",
       "      <td>...</td>\n",
       "      <td>...</td>\n",
       "      <td>...</td>\n",
       "      <td>...</td>\n",
       "      <td>...</td>\n",
       "      <td>...</td>\n",
       "      <td>...</td>\n",
       "      <td>...</td>\n",
       "      <td>...</td>\n",
       "      <td>...</td>\n",
       "      <td>...</td>\n",
       "      <td>...</td>\n",
       "      <td>...</td>\n",
       "      <td>...</td>\n",
       "      <td>...</td>\n",
       "      <td>...</td>\n",
       "      <td>...</td>\n",
       "      <td>...</td>\n",
       "      <td>...</td>\n",
       "    </tr>\n",
       "    <tr>\n",
       "      <th>2514</th>\n",
       "      <td>chevrolet</td>\n",
       "      <td>chevy_van</td>\n",
       "      <td>1998</td>\n",
       "      <td>regular_unleaded</td>\n",
       "      <td>200.0</td>\n",
       "      <td>6.0</td>\n",
       "      <td>automatic</td>\n",
       "      <td>rear_wheel_drive</td>\n",
       "      <td>3.0</td>\n",
       "      <td></td>\n",
       "      <td>...</td>\n",
       "      <td>0</td>\n",
       "      <td>0</td>\n",
       "      <td>0</td>\n",
       "      <td>0</td>\n",
       "      <td>0</td>\n",
       "      <td>0</td>\n",
       "      <td>1</td>\n",
       "      <td>0</td>\n",
       "      <td>0</td>\n",
       "      <td>0</td>\n",
       "    </tr>\n",
       "    <tr>\n",
       "      <th>11798</th>\n",
       "      <td>subaru</td>\n",
       "      <td>xv_crosstrek</td>\n",
       "      <td>2014</td>\n",
       "      <td>regular_unleaded</td>\n",
       "      <td>160.0</td>\n",
       "      <td>4.0</td>\n",
       "      <td>automatic</td>\n",
       "      <td>all_wheel_drive</td>\n",
       "      <td>4.0</td>\n",
       "      <td>crossover,hybrid</td>\n",
       "      <td>...</td>\n",
       "      <td>0</td>\n",
       "      <td>1</td>\n",
       "      <td>0</td>\n",
       "      <td>0</td>\n",
       "      <td>0</td>\n",
       "      <td>0</td>\n",
       "      <td>0</td>\n",
       "      <td>0</td>\n",
       "      <td>0</td>\n",
       "      <td>0</td>\n",
       "    </tr>\n",
       "    <tr>\n",
       "      <th>6637</th>\n",
       "      <td>dodge</td>\n",
       "      <td>magnum</td>\n",
       "      <td>2006</td>\n",
       "      <td>regular_unleaded</td>\n",
       "      <td>250.0</td>\n",
       "      <td>6.0</td>\n",
       "      <td>automatic</td>\n",
       "      <td>all_wheel_drive</td>\n",
       "      <td>4.0</td>\n",
       "      <td></td>\n",
       "      <td>...</td>\n",
       "      <td>0</td>\n",
       "      <td>0</td>\n",
       "      <td>0</td>\n",
       "      <td>0</td>\n",
       "      <td>1</td>\n",
       "      <td>0</td>\n",
       "      <td>0</td>\n",
       "      <td>0</td>\n",
       "      <td>0</td>\n",
       "      <td>0</td>\n",
       "    </tr>\n",
       "    <tr>\n",
       "      <th>2575</th>\n",
       "      <td>honda</td>\n",
       "      <td>civic</td>\n",
       "      <td>2016</td>\n",
       "      <td>regular_unleaded</td>\n",
       "      <td>174.0</td>\n",
       "      <td>4.0</td>\n",
       "      <td>automatic</td>\n",
       "      <td>front_wheel_drive</td>\n",
       "      <td>4.0</td>\n",
       "      <td></td>\n",
       "      <td>...</td>\n",
       "      <td>0</td>\n",
       "      <td>0</td>\n",
       "      <td>0</td>\n",
       "      <td>0</td>\n",
       "      <td>0</td>\n",
       "      <td>0</td>\n",
       "      <td>0</td>\n",
       "      <td>0</td>\n",
       "      <td>0</td>\n",
       "      <td>0</td>\n",
       "    </tr>\n",
       "    <tr>\n",
       "      <th>7336</th>\n",
       "      <td>subaru</td>\n",
       "      <td>outback</td>\n",
       "      <td>2015</td>\n",
       "      <td>regular_unleaded</td>\n",
       "      <td>256.0</td>\n",
       "      <td>6.0</td>\n",
       "      <td>automatic</td>\n",
       "      <td>all_wheel_drive</td>\n",
       "      <td>4.0</td>\n",
       "      <td>crossover</td>\n",
       "      <td>...</td>\n",
       "      <td>0</td>\n",
       "      <td>1</td>\n",
       "      <td>0</td>\n",
       "      <td>0</td>\n",
       "      <td>0</td>\n",
       "      <td>0</td>\n",
       "      <td>0</td>\n",
       "      <td>0</td>\n",
       "      <td>0</td>\n",
       "      <td>0</td>\n",
       "    </tr>\n",
       "  </tbody>\n",
       "</table>\n",
       "<p>11914 rows × 285 columns</p>\n",
       "</div>"
      ],
      "text/plain": [
       "             make         model  year          engine_fuel_type  engine_hp  \\\n",
       "2735    chevrolet        cobalt  2008          regular_unleaded      148.0   \n",
       "6720       toyota        matrix  2012          regular_unleaded      132.0   \n",
       "5878       subaru       impreza  2016          regular_unleaded      148.0   \n",
       "11190  volkswagen       vanagon  1991          regular_unleaded       90.0   \n",
       "4554         ford         f-150  2017  flex-fuel_(unleaded/e85)      385.0   \n",
       "...           ...           ...   ...                       ...        ...   \n",
       "2514    chevrolet     chevy_van  1998          regular_unleaded      200.0   \n",
       "11798      subaru  xv_crosstrek  2014          regular_unleaded      160.0   \n",
       "6637        dodge        magnum  2006          regular_unleaded      250.0   \n",
       "2575        honda         civic  2016          regular_unleaded      174.0   \n",
       "7336       subaru       outback  2015          regular_unleaded      256.0   \n",
       "\n",
       "       engine_cylinders transmission_type      driven_wheels  number_of_doors  \\\n",
       "2735                4.0            manual  front_wheel_drive              2.0   \n",
       "6720                4.0         automatic  front_wheel_drive              4.0   \n",
       "5878                4.0         automatic    all_wheel_drive              4.0   \n",
       "11190               4.0            manual   rear_wheel_drive              3.0   \n",
       "4554                8.0         automatic   four_wheel_drive              4.0   \n",
       "...                 ...               ...                ...              ...   \n",
       "2514                6.0         automatic   rear_wheel_drive              3.0   \n",
       "11798               4.0         automatic    all_wheel_drive              4.0   \n",
       "6637                6.0         automatic    all_wheel_drive              4.0   \n",
       "2575                4.0         automatic  front_wheel_drive              4.0   \n",
       "7336                6.0         automatic    all_wheel_drive              4.0   \n",
       "\n",
       "        market_category  ... vehicle_style_regular_cab_pickup  \\\n",
       "2735                     ...                                0   \n",
       "6720          hatchback  ...                                0   \n",
       "5878          hatchback  ...                                0   \n",
       "11190                    ...                                0   \n",
       "4554          flex_fuel  ...                                0   \n",
       "...                 ...  ...                              ...   \n",
       "2514                     ...                                0   \n",
       "11798  crossover,hybrid  ...                                0   \n",
       "6637                     ...                                0   \n",
       "2575                     ...                                0   \n",
       "7336          crossover  ...                                0   \n",
       "\n",
       "      vehicle_style_4dr_suv  vehicle_style_extended_cab_pickup  \\\n",
       "2735                      0                                  0   \n",
       "6720                      0                                  0   \n",
       "5878                      0                                  0   \n",
       "11190                     0                                  0   \n",
       "4554                      0                                  0   \n",
       "...                     ...                                ...   \n",
       "2514                      0                                  0   \n",
       "11798                     1                                  0   \n",
       "6637                      0                                  0   \n",
       "2575                      0                                  0   \n",
       "7336                      1                                  0   \n",
       "\n",
       "       vehicle_style_2dr_hatchback  vehicle_style_wagon  \\\n",
       "2735                             0                    0   \n",
       "6720                             0                    0   \n",
       "5878                             0                    0   \n",
       "11190                            0                    0   \n",
       "4554                             0                    0   \n",
       "...                            ...                  ...   \n",
       "2514                             0                    0   \n",
       "11798                            0                    0   \n",
       "6637                             0                    1   \n",
       "2575                             0                    0   \n",
       "7336                             0                    0   \n",
       "\n",
       "       vehicle_style_2dr_suv  vehicle_style_cargo_van  \\\n",
       "2735                       0                        0   \n",
       "6720                       0                        0   \n",
       "5878                       0                        0   \n",
       "11190                      0                        0   \n",
       "4554                       0                        0   \n",
       "...                      ...                      ...   \n",
       "2514                       0                        1   \n",
       "11798                      0                        0   \n",
       "6637                       0                        0   \n",
       "2575                       0                        0   \n",
       "7336                       0                        0   \n",
       "\n",
       "       vehicle_style_passenger_van  vehicle_style_cargo_minivan  \\\n",
       "2735                             0                            0   \n",
       "6720                             0                            0   \n",
       "5878                             0                            0   \n",
       "11190                            0                            0   \n",
       "4554                             0                            0   \n",
       "...                            ...                          ...   \n",
       "2514                             0                            0   \n",
       "11798                            0                            0   \n",
       "6637                             0                            0   \n",
       "2575                             0                            0   \n",
       "7336                             0                            0   \n",
       "\n",
       "       vehicle_style_convertible_suv  \n",
       "2735                               0  \n",
       "6720                               0  \n",
       "5878                               0  \n",
       "11190                              0  \n",
       "4554                               0  \n",
       "...                              ...  \n",
       "2514                               0  \n",
       "11798                              0  \n",
       "6637                               0  \n",
       "2575                               0  \n",
       "7336                               0  \n",
       "\n",
       "[11914 rows x 285 columns]"
      ]
     },
     "execution_count": 46,
     "metadata": {},
     "output_type": "execute_result"
    }
   ],
   "source": [
    "# рассмотрим получившийся датафрейм\n",
    "\n",
    "df_shuffled_new"
   ]
  },
  {
   "cell_type": "code",
   "execution_count": 47,
   "id": "8a2f2292",
   "metadata": {},
   "outputs": [
    {
     "name": "stderr",
     "output_type": "stream",
     "text": [
      "C:\\Users\\Dmitrii\\AppData\\Local\\Temp\\ipykernel_13600\\2344867864.py:5: PerformanceWarning: DataFrame is highly fragmented.  This is usually the result of calling `frame.insert` many times, which has poor performance.  Consider joining all columns at once using pd.concat(axis=1) instead. To get a de-fragmented frame, use `newframe = frame.copy()`\n",
      "  df_shuffled_new['age'] = max_year - df_shuffled_new['year']\n"
     ]
    },
    {
     "data": {
      "text/html": [
       "<div>\n",
       "<style scoped>\n",
       "    .dataframe tbody tr th:only-of-type {\n",
       "        vertical-align: middle;\n",
       "    }\n",
       "\n",
       "    .dataframe tbody tr th {\n",
       "        vertical-align: top;\n",
       "    }\n",
       "\n",
       "    .dataframe thead th {\n",
       "        text-align: right;\n",
       "    }\n",
       "</style>\n",
       "<table border=\"1\" class=\"dataframe\">\n",
       "  <thead>\n",
       "    <tr style=\"text-align: right;\">\n",
       "      <th></th>\n",
       "      <th>engine_hp</th>\n",
       "      <th>engine_cylinders</th>\n",
       "      <th>highway_mpg</th>\n",
       "      <th>city_mpg</th>\n",
       "      <th>popularity</th>\n",
       "      <th>make_chevrolet</th>\n",
       "      <th>make_toyota</th>\n",
       "      <th>make_subaru</th>\n",
       "      <th>make_volkswagen</th>\n",
       "      <th>make_ford</th>\n",
       "      <th>...</th>\n",
       "      <th>vehicle_style_4dr_suv</th>\n",
       "      <th>vehicle_style_extended_cab_pickup</th>\n",
       "      <th>vehicle_style_2dr_hatchback</th>\n",
       "      <th>vehicle_style_wagon</th>\n",
       "      <th>vehicle_style_2dr_suv</th>\n",
       "      <th>vehicle_style_cargo_van</th>\n",
       "      <th>vehicle_style_passenger_van</th>\n",
       "      <th>vehicle_style_cargo_minivan</th>\n",
       "      <th>vehicle_style_convertible_suv</th>\n",
       "      <th>age</th>\n",
       "    </tr>\n",
       "  </thead>\n",
       "  <tbody>\n",
       "    <tr>\n",
       "      <th>2735</th>\n",
       "      <td>148.0</td>\n",
       "      <td>4.0</td>\n",
       "      <td>33</td>\n",
       "      <td>24</td>\n",
       "      <td>1385</td>\n",
       "      <td>1</td>\n",
       "      <td>0</td>\n",
       "      <td>0</td>\n",
       "      <td>0</td>\n",
       "      <td>0</td>\n",
       "      <td>...</td>\n",
       "      <td>0</td>\n",
       "      <td>0</td>\n",
       "      <td>0</td>\n",
       "      <td>0</td>\n",
       "      <td>0</td>\n",
       "      <td>0</td>\n",
       "      <td>0</td>\n",
       "      <td>0</td>\n",
       "      <td>0</td>\n",
       "      <td>9</td>\n",
       "    </tr>\n",
       "    <tr>\n",
       "      <th>6720</th>\n",
       "      <td>132.0</td>\n",
       "      <td>4.0</td>\n",
       "      <td>32</td>\n",
       "      <td>25</td>\n",
       "      <td>2031</td>\n",
       "      <td>0</td>\n",
       "      <td>1</td>\n",
       "      <td>0</td>\n",
       "      <td>0</td>\n",
       "      <td>0</td>\n",
       "      <td>...</td>\n",
       "      <td>0</td>\n",
       "      <td>0</td>\n",
       "      <td>0</td>\n",
       "      <td>0</td>\n",
       "      <td>0</td>\n",
       "      <td>0</td>\n",
       "      <td>0</td>\n",
       "      <td>0</td>\n",
       "      <td>0</td>\n",
       "      <td>5</td>\n",
       "    </tr>\n",
       "    <tr>\n",
       "      <th>5878</th>\n",
       "      <td>148.0</td>\n",
       "      <td>4.0</td>\n",
       "      <td>37</td>\n",
       "      <td>28</td>\n",
       "      <td>640</td>\n",
       "      <td>0</td>\n",
       "      <td>0</td>\n",
       "      <td>1</td>\n",
       "      <td>0</td>\n",
       "      <td>0</td>\n",
       "      <td>...</td>\n",
       "      <td>0</td>\n",
       "      <td>0</td>\n",
       "      <td>0</td>\n",
       "      <td>0</td>\n",
       "      <td>0</td>\n",
       "      <td>0</td>\n",
       "      <td>0</td>\n",
       "      <td>0</td>\n",
       "      <td>0</td>\n",
       "      <td>1</td>\n",
       "    </tr>\n",
       "    <tr>\n",
       "      <th>11190</th>\n",
       "      <td>90.0</td>\n",
       "      <td>4.0</td>\n",
       "      <td>18</td>\n",
       "      <td>16</td>\n",
       "      <td>873</td>\n",
       "      <td>0</td>\n",
       "      <td>0</td>\n",
       "      <td>0</td>\n",
       "      <td>1</td>\n",
       "      <td>0</td>\n",
       "      <td>...</td>\n",
       "      <td>0</td>\n",
       "      <td>0</td>\n",
       "      <td>0</td>\n",
       "      <td>0</td>\n",
       "      <td>0</td>\n",
       "      <td>0</td>\n",
       "      <td>0</td>\n",
       "      <td>0</td>\n",
       "      <td>0</td>\n",
       "      <td>26</td>\n",
       "    </tr>\n",
       "    <tr>\n",
       "      <th>4554</th>\n",
       "      <td>385.0</td>\n",
       "      <td>8.0</td>\n",
       "      <td>21</td>\n",
       "      <td>15</td>\n",
       "      <td>5657</td>\n",
       "      <td>0</td>\n",
       "      <td>0</td>\n",
       "      <td>0</td>\n",
       "      <td>0</td>\n",
       "      <td>1</td>\n",
       "      <td>...</td>\n",
       "      <td>0</td>\n",
       "      <td>0</td>\n",
       "      <td>0</td>\n",
       "      <td>0</td>\n",
       "      <td>0</td>\n",
       "      <td>0</td>\n",
       "      <td>0</td>\n",
       "      <td>0</td>\n",
       "      <td>0</td>\n",
       "      <td>0</td>\n",
       "    </tr>\n",
       "  </tbody>\n",
       "</table>\n",
       "<p>5 rows × 275 columns</p>\n",
       "</div>"
      ],
      "text/plain": [
       "       engine_hp  engine_cylinders  highway_mpg  city_mpg  popularity  \\\n",
       "2735       148.0               4.0           33        24        1385   \n",
       "6720       132.0               4.0           32        25        2031   \n",
       "5878       148.0               4.0           37        28         640   \n",
       "11190       90.0               4.0           18        16         873   \n",
       "4554       385.0               8.0           21        15        5657   \n",
       "\n",
       "       make_chevrolet  make_toyota  make_subaru  make_volkswagen  make_ford  \\\n",
       "2735                1            0            0                0          0   \n",
       "6720                0            1            0                0          0   \n",
       "5878                0            0            1                0          0   \n",
       "11190               0            0            0                1          0   \n",
       "4554                0            0            0                0          1   \n",
       "\n",
       "       ...  vehicle_style_4dr_suv  vehicle_style_extended_cab_pickup  \\\n",
       "2735   ...                      0                                  0   \n",
       "6720   ...                      0                                  0   \n",
       "5878   ...                      0                                  0   \n",
       "11190  ...                      0                                  0   \n",
       "4554   ...                      0                                  0   \n",
       "\n",
       "       vehicle_style_2dr_hatchback  vehicle_style_wagon  \\\n",
       "2735                             0                    0   \n",
       "6720                             0                    0   \n",
       "5878                             0                    0   \n",
       "11190                            0                    0   \n",
       "4554                             0                    0   \n",
       "\n",
       "       vehicle_style_2dr_suv  vehicle_style_cargo_van  \\\n",
       "2735                       0                        0   \n",
       "6720                       0                        0   \n",
       "5878                       0                        0   \n",
       "11190                      0                        0   \n",
       "4554                       0                        0   \n",
       "\n",
       "       vehicle_style_passenger_van  vehicle_style_cargo_minivan  \\\n",
       "2735                             0                            0   \n",
       "6720                             0                            0   \n",
       "5878                             0                            0   \n",
       "11190                            0                            0   \n",
       "4554                             0                            0   \n",
       "\n",
       "       vehicle_style_convertible_suv  age  \n",
       "2735                               0    9  \n",
       "6720                               0    5  \n",
       "5878                               0    1  \n",
       "11190                              0   26  \n",
       "4554                               0    0  \n",
       "\n",
       "[5 rows x 275 columns]"
      ]
     },
     "execution_count": 47,
     "metadata": {},
     "output_type": "execute_result"
    }
   ],
   "source": [
    "# избавимся от старых колонок с категориальными параметрами, заменим колонку year на age и удалим колонку msrp\n",
    "\n",
    "df_shuffled_new.drop(columns=cat_features, inplace=True)\n",
    "del df_shuffled_new['msrp']\n",
    "df_shuffled_new['age'] = max_year - df_shuffled_new['year']\n",
    "del df_shuffled_new['year']\n",
    "df_shuffled_new.head()"
   ]
  },
  {
   "cell_type": "code",
   "execution_count": 48,
   "id": "6a5d882c",
   "metadata": {},
   "outputs": [],
   "source": [
    "# разобьем новый перемешанный датафрейм на 3 набора данных\n",
    "\n",
    "df_train_new = df_shuffled_new.iloc[: n_train].copy() \n",
    "df_val_new = df_shuffled_new.iloc[n_train : n_train + n_val].copy()\n",
    "df_test_new = df_shuffled_new.iloc[n_train + n_val :].copy()"
   ]
  },
  {
   "cell_type": "code",
   "execution_count": 49,
   "id": "5de2d586",
   "metadata": {},
   "outputs": [
    {
     "data": {
      "text/plain": [
       "(7148, 275)"
      ]
     },
     "execution_count": 49,
     "metadata": {},
     "output_type": "execute_result"
    }
   ],
   "source": [
    "# новая матрица для обучения\n",
    "\n",
    "X_train_new = df_train_new.values\n",
    "X_train_new.shape"
   ]
  },
  {
   "cell_type": "markdown",
   "id": "10d7acc3",
   "metadata": {},
   "source": [
    "## 6. Обучение модели на расширенном наборе характеристик"
   ]
  },
  {
   "cell_type": "code",
   "execution_count": 50,
   "id": "55069f8c",
   "metadata": {},
   "outputs": [],
   "source": [
    "# определим новую функцию линейной регрессии на основе NumPy\n",
    "# чтобы избежать получения сингулярной/неопределенной матрицы, добавим регуляризацию (доп.параметр r)\n",
    "\n",
    "def train_linear_regression_reg(X, y, r=0.0):\n",
    "    ones = np.ones(X.shape[0])                  # создание массива из 1\n",
    "    X = np.column_stack([ones, X])              # добавление массива из 1 в качестве первого столбца (х0=1)\n",
    "    \n",
    "    XTX = X.T.dot(X)                            # транспорируем матрицу Х и умножаем на исходную матрицу Х\n",
    "    reg = r * np.eye(XTX.shape[0])              # проводим регуляризацию\n",
    "    XTX = XTX + reg                             # проводим регуляризацию\n",
    "    \n",
    "    XTX_inv = np.linalg.inv(XTX)                # вычисляем (XT * X)^(-1)\n",
    "    a = XTX_inv.dot(X.T).dot(y)                 # вычисляем оставшуюся часть\n",
    "    \n",
    "    return a[0], a[1:]"
   ]
  },
  {
   "cell_type": "code",
   "execution_count": 51,
   "id": "c17a5cda",
   "metadata": {},
   "outputs": [],
   "source": [
    "# используем новую функцию для нахождения коэффициентов линейной регрессии\n",
    "\n",
    "a_0, a = train_linear_regression_reg(X_train_new, y_train, r=0.001)"
   ]
  },
  {
   "cell_type": "code",
   "execution_count": 52,
   "id": "433206dc",
   "metadata": {},
   "outputs": [],
   "source": [
    "# построим прогноз цены на основе новых коэффициентов\n",
    "\n",
    "y_pred_new = a_0 + X_train_new.dot(a)"
   ]
  },
  {
   "cell_type": "code",
   "execution_count": 53,
   "id": "f7a121d1",
   "metadata": {},
   "outputs": [
    {
     "data": {
      "text/plain": [
       "<matplotlib.legend.Legend at 0x25254c54550>"
      ]
     },
     "execution_count": 53,
     "metadata": {},
     "output_type": "execute_result"
    },
    {
     "data": {
      "image/png": "[encoded data removed]",
      "text/plain": [
       "<Figure size 640x480 with 1 Axes>"
      ]
     },
     "metadata": {},
     "output_type": "display_data"
    }
   ],
   "source": [
    "# сравним на диаграмме истинные и новые предсказанные значения\n",
    "\n",
    "sns.histplot(y_pred_new, label='new prediction', color='r')\n",
    "sns.histplot(y_train, label='target')\n",
    "plt.legend()"
   ]
  },
  {
   "cell_type": "markdown",
   "id": "f3c39484",
   "metadata": {},
   "source": [
    "Получилось явно лучше, но все еще \"страдает\" область с низкими ценами."
   ]
  },
  {
   "cell_type": "code",
   "execution_count": 54,
   "id": "af22f6d7",
   "metadata": {},
   "outputs": [
    {
     "data": {
      "text/plain": [
       "0.3464"
      ]
     },
     "execution_count": 54,
     "metadata": {},
     "output_type": "execute_result"
    }
   ],
   "source": [
    "# рассчитаем RMSE для модели на основе новых характеристик\n",
    "\n",
    "round(rmse(y_train, y_pred_new), 4)"
   ]
  },
  {
   "cell_type": "markdown",
   "id": "f029b1cb",
   "metadata": {},
   "source": [
    "RMSE стал ниже (был - 0.5175)."
   ]
  },
  {
   "cell_type": "markdown",
   "id": "77326b20",
   "metadata": {},
   "source": [
    "## 7. Проверка новой модели"
   ]
  },
  {
   "cell_type": "code",
   "execution_count": 63,
   "id": "d6537e30",
   "metadata": {},
   "outputs": [
    {
     "data": {
      "text/plain": [
       "(2382, 275)"
      ]
     },
     "execution_count": 63,
     "metadata": {},
     "output_type": "execute_result"
    }
   ],
   "source": [
    "# матрица для проверки\n",
    "\n",
    "X_val_new = df_val_new.values\n",
    "X_val_new.shape"
   ]
  },
  {
   "cell_type": "code",
   "execution_count": 64,
   "id": "ce6f85a2",
   "metadata": {},
   "outputs": [],
   "source": [
    "# построим прогноз цены на основе новых коэффициентов\n",
    "\n",
    "y_val_new = a_0 + X_val_new.dot(a)"
   ]
  },
  {
   "cell_type": "code",
   "execution_count": 57,
   "id": "ee47122c",
   "metadata": {},
   "outputs": [
    {
     "data": {
      "text/plain": [
       "<matplotlib.legend.Legend at 0x25255523c40>"
      ]
     },
     "execution_count": 57,
     "metadata": {},
     "output_type": "execute_result"
    },
    {
     "data": {
      "image/png": "[encoded data removed]",
      "text/plain": [
       "<Figure size 640x480 with 1 Axes>"
      ]
     },
     "metadata": {},
     "output_type": "display_data"
    }
   ],
   "source": [
    "# сравним на диаграмме истинные и предсказанные значения для проверочного датафрейма\n",
    " \n",
    "sns.histplot(y_val_new, label='prediction (df_val)', color='r')\n",
    "sns.histplot(y_val, label='target (df_val)')\n",
    "plt.legend()"
   ]
  },
  {
   "cell_type": "code",
   "execution_count": 58,
   "id": "bf0dae15",
   "metadata": {},
   "outputs": [
    {
     "data": {
      "text/plain": [
       "0.3567"
      ]
     },
     "execution_count": 58,
     "metadata": {},
     "output_type": "execute_result"
    }
   ],
   "source": [
    "round(rmse(y_val, y_val_new), 4)"
   ]
  },
  {
   "cell_type": "markdown",
   "id": "1e354094",
   "metadata": {},
   "source": [
    "RMSE чуть больше, чем на тренировочном датафрейме."
   ]
  },
  {
   "cell_type": "code",
   "execution_count": 59,
   "id": "eec32368",
   "metadata": {},
   "outputs": [
    {
     "data": {
      "text/plain": [
       "(2384, 275)"
      ]
     },
     "execution_count": 59,
     "metadata": {},
     "output_type": "execute_result"
    }
   ],
   "source": [
    "# матрица для повторного тестирования\n",
    "\n",
    "X_test_new = df_test_new.values\n",
    "X_test_new.shape"
   ]
  },
  {
   "cell_type": "code",
   "execution_count": 60,
   "id": "462f2ba8",
   "metadata": {},
   "outputs": [],
   "source": [
    "# строим прогноз цены на основе новых коэффициентов\n",
    "\n",
    "y_test_new = a_0 + X_test_new.dot(a)"
   ]
  },
  {
   "cell_type": "code",
   "execution_count": 61,
   "id": "5d7299c4",
   "metadata": {},
   "outputs": [
    {
     "data": {
      "text/plain": [
       "<matplotlib.legend.Legend at 0x25252e71280>"
      ]
     },
     "execution_count": 61,
     "metadata": {},
     "output_type": "execute_result"
    },
    {
     "data": {
      "image/png": "[encoded data removed]",
      "text/plain": [
       "<Figure size 640x480 with 1 Axes>"
      ]
     },
     "metadata": {},
     "output_type": "display_data"
    }
   ],
   "source": [
    "# сравнительная диаграмма\n",
    " \n",
    "sns.histplot(y_test_new, label='prediction (df_test)', color='r')\n",
    "sns.histplot(y_test, label='target (df_test)')\n",
    "plt.legend()"
   ]
  },
  {
   "cell_type": "code",
   "execution_count": 62,
   "id": "57ab827d",
   "metadata": {},
   "outputs": [
    {
     "data": {
      "text/plain": [
       "0.3605"
      ]
     },
     "execution_count": 62,
     "metadata": {},
     "output_type": "execute_result"
    }
   ],
   "source": [
    "round(rmse(y_test, y_test_new), 4)"
   ]
  },
  {
   "cell_type": "markdown",
   "id": "26db9801",
   "metadata": {},
   "source": [
    "## 8. Использование sklearn.linear_model.LinearRegression"
   ]
  },
  {
   "cell_type": "markdown",
   "id": "fd4b4943",
   "metadata": {},
   "source": [
    "Сравним написанную вручную модель с моделью LinearRegression из пакета sklearn"
   ]
  },
  {
   "cell_type": "code",
   "execution_count": 65,
   "id": "deab782b",
   "metadata": {},
   "outputs": [],
   "source": [
    "# импорт\n",
    "\n",
    "from sklearn.linear_model import LinearRegression"
   ]
  },
  {
   "cell_type": "code",
   "execution_count": 66,
   "id": "f199d83b",
   "metadata": {},
   "outputs": [
    {
     "data": {
      "text/plain": [
       "LinearRegression()"
      ]
     },
     "execution_count": 66,
     "metadata": {},
     "output_type": "execute_result"
    }
   ],
   "source": [
    "# подгонка модели. Сперва на базовых параметрах\n",
    "\n",
    "reg = LinearRegression()\n",
    "reg.fit(X_train_base, y_train)"
   ]
  },
  {
   "cell_type": "code",
   "execution_count": 67,
   "id": "15600b8f",
   "metadata": {},
   "outputs": [],
   "source": [
    "# предсказание модели\n",
    "\n",
    "y_train_LR = reg.predict(X_train_base)"
   ]
  },
  {
   "cell_type": "code",
   "execution_count": 68,
   "id": "6792a258",
   "metadata": {},
   "outputs": [
    {
     "data": {
      "text/plain": [
       "<matplotlib.legend.Legend at 0x25257c82d30>"
      ]
     },
     "execution_count": 68,
     "metadata": {},
     "output_type": "execute_result"
    },
    {
     "data": {
      "image/png": "[encoded data removed]",
      "text/plain": [
       "<Figure size 640x480 with 1 Axes>"
      ]
     },
     "metadata": {},
     "output_type": "display_data"
    }
   ],
   "source": [
    "# сравнительная диаграмма\n",
    " \n",
    "sns.histplot(y_train_LR, label='prediction (base, LinearRegression)', color='r')\n",
    "sns.histplot(y_train, label='target')\n",
    "plt.legend()"
   ]
  },
  {
   "cell_type": "code",
   "execution_count": 69,
   "id": "fcc8aa18",
   "metadata": {},
   "outputs": [
    {
     "data": {
      "text/plain": [
       "0.5175"
      ]
     },
     "execution_count": 69,
     "metadata": {},
     "output_type": "execute_result"
    }
   ],
   "source": [
    "round(rmse(y_train, y_train_LR), 4)"
   ]
  },
  {
   "cell_type": "code",
   "execution_count": 70,
   "id": "60a7bf73",
   "metadata": {},
   "outputs": [
    {
     "data": {
      "text/plain": [
       "<matplotlib.legend.Legend at 0x2525979fa90>"
      ]
     },
     "execution_count": 70,
     "metadata": {},
     "output_type": "execute_result"
    },
    {
     "data": {
      "image/png": "[encoded data removed]",
      "text/plain": [
       "<Figure size 640x480 with 1 Axes>"
      ]
     },
     "metadata": {},
     "output_type": "display_data"
    }
   ],
   "source": [
    "# теперь на расширенном наборе данный\n",
    "\n",
    "reg.fit(X_train_new, y_train)\n",
    "\n",
    "y_train_new_LR = reg.predict(X_train_new)\n",
    "\n",
    "sns.histplot(y_train_new_LR, label='new prediction (LinearRegression)', color='r')\n",
    "sns.histplot(y_train, label='target')\n",
    "plt.legend()"
   ]
  },
  {
   "cell_type": "code",
   "execution_count": 71,
   "id": "401d2c5a",
   "metadata": {},
   "outputs": [
    {
     "data": {
      "text/plain": [
       "0.3464"
      ]
     },
     "execution_count": 71,
     "metadata": {},
     "output_type": "execute_result"
    }
   ],
   "source": [
    "round(rmse(y_train, y_train_new_LR), 4)"
   ]
  },
  {
   "cell_type": "code",
   "execution_count": 72,
   "id": "152c1667",
   "metadata": {},
   "outputs": [
    {
     "data": {
      "text/plain": [
       "<matplotlib.legend.Legend at 0x252598fbb80>"
      ]
     },
     "execution_count": 72,
     "metadata": {},
     "output_type": "execute_result"
    },
    {
     "data": {
      "image/png": "[encoded data removed]",
      "text/plain": [
       "<Figure size 640x480 with 1 Axes>"
      ]
     },
     "metadata": {},
     "output_type": "display_data"
    }
   ],
   "source": [
    "# подставляем в модель данные из проверочного набора\n",
    "\n",
    "y_val_new_LR = reg.predict(X_val_new)\n",
    "\n",
    "sns.histplot(y_val_new_LR, label='new prediction (df_val, LinearRegression)', color='r')\n",
    "sns.histplot(y_val, label='target (df_val)')\n",
    "plt.legend()"
   ]
  },
  {
   "cell_type": "code",
   "execution_count": 73,
   "id": "6588ef83",
   "metadata": {},
   "outputs": [
    {
     "data": {
      "text/plain": [
       "0.3567"
      ]
     },
     "execution_count": 73,
     "metadata": {},
     "output_type": "execute_result"
    }
   ],
   "source": [
    "round(rmse(y_val, y_val_new_LR), 4)"
   ]
  },
  {
   "cell_type": "code",
   "execution_count": 74,
   "id": "4955c5bf",
   "metadata": {},
   "outputs": [
    {
     "data": {
      "text/plain": [
       "<matplotlib.legend.Legend at 0x25259aac0d0>"
      ]
     },
     "execution_count": 74,
     "metadata": {},
     "output_type": "execute_result"
    },
    {
     "data": {
      "image/png": "[encoded data removed]",
      "text/plain": [
       "<Figure size 640x480 with 1 Axes>"
      ]
     },
     "metadata": {},
     "output_type": "display_data"
    }
   ],
   "source": [
    "# подставляем в модель данные из тестового набора\n",
    "\n",
    "y_test_new_LR = reg.predict(X_test_new)\n",
    "\n",
    "sns.histplot(y_test_new_LR, label='new prediction (df_test, LinearRegression)', color='r')\n",
    "sns.histplot(y_test, label='target (df_test)')\n",
    "plt.legend()"
   ]
  },
  {
   "cell_type": "code",
   "execution_count": 75,
   "id": "ae708c7b",
   "metadata": {},
   "outputs": [
    {
     "data": {
      "text/plain": [
       "0.3605"
      ]
     },
     "execution_count": 75,
     "metadata": {},
     "output_type": "execute_result"
    }
   ],
   "source": [
    "round(rmse(y_test, y_test_new_LR), 4)"
   ]
  },
  {
   "cell_type": "markdown",
   "id": "6d62a1f7",
   "metadata": {},
   "source": [
    "## 9. Выводы"
   ]
  },
  {
   "cell_type": "markdown",
   "id": "b2bad5c7",
   "metadata": {},
   "source": [
    "1. Построена модель линейной регрессии на основе NumPy для предсказания цены автомобилей на основе базовых числовых параметров.  Распределение предсказанных значений близко к фактическому, но с серьезными отклонениями. RMSE - 0.5175.\n",
    "2. Категориальные признаки переведены в числовые. Построена новая модель линейной регрессии на основе NumPy для предсказания цены автомобилей с использованием базовых и новых параметров. Распределение предсказанных значений цен еще ближе к фактическому, отклонениям присутствуют только в области дешевых автомобилей. RMSE - 0.3464.\n",
    "3. Проведена проверка новой модели на двух наборах данных. Предсказанное распределение цен все так же \"страдает\" в области дешевых автомобилей. RMSE - 0.3567 и 0.3605.\n",
    "4. Отклонения в области дешевых автомобилей должны быть нивелированы после введения в регрессионную модель всех 914 моделей авто. Проверим это позже.\n",
    "5. Проведено сравнение написанных вручную моделей с моделями на основе sklearn.linear_model.LinearRegression. Полученные диаграммы распределений и значения RMSE совпадают. "
   ]
  },
  {
   "cell_type": "code",
   "execution_count": null,
   "id": "212ecfa9",
   "metadata": {},
   "outputs": [],
   "source": []
  }
 ],
 "metadata": {
  "kernelspec": {
   "display_name": "Python 3 (ipykernel)",
   "language": "python",
   "name": "python3"
  },
  "language_info": {
   "codemirror_mode": {
    "name": "ipython",
    "version": 3
   },
   "file_extension": ".py",
   "mimetype": "text/x-python",
   "name": "python",
   "nbconvert_exporter": "python",
   "pygments_lexer": "ipython3",
   "version": "3.9.13"
  }
 },
 "nbformat": 4,
 "nbformat_minor": 5
}
